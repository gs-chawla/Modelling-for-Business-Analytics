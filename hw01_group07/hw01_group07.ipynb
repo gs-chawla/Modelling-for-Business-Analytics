{
  "cells": [
    {
      "cell_type": "markdown",
      "metadata": {
        "id": "r7GzE0oH6QU5"
      },
      "source": [
        "# **IMPORT LIBRARIES AND LOAD THE DATASET**\n",
        "\n"
      ]
    },
    {
      "cell_type": "markdown",
      "metadata": {
        "id": "iF3gEMNu64c3"
      },
      "source": [
        "IMPORT LIBRARIES"
      ]
    },
    {
      "cell_type": "code",
      "execution_count": 57,
      "metadata": {
        "id": "2KzHNeMkIlVe"
      },
      "outputs": [],
      "source": [
        "# import libraries\n",
        "import os\n",
        "import io\n",
        "import pandas as pd\n",
        "import numpy as np\n",
        "import matplotlib.pyplot as plt\n",
        "import statsmodels.api as sm\n",
        "import sklearn.preprocessing as prep\n",
        "from sklearn.decomposition import PCA"
      ]
    },
    {
      "cell_type": "markdown",
      "metadata": {
        "id": "6S7HiW-E6x5J"
      },
      "source": [
        "IMPORT THE DATASET AND SAVE AS PANDAS DATAFRAME"
      ]
    },
    {
      "cell_type": "code",
      "execution_count": 68,
      "metadata": {
        "colab": {
          "base_uri": "https://localhost:8080/",
          "height": 227
        },
        "id": "13-ZlVgSJCip",
        "outputId": "ce07a0d8-af87-43f1-ee8e-d8987acc2325"
      },
      "outputs": [
        {
          "data": {
            "text/html": [
              "<div>\n",
              "<style scoped>\n",
              "    .dataframe tbody tr th:only-of-type {\n",
              "        vertical-align: middle;\n",
              "    }\n",
              "\n",
              "    .dataframe tbody tr th {\n",
              "        vertical-align: top;\n",
              "    }\n",
              "\n",
              "    .dataframe thead th {\n",
              "        text-align: right;\n",
              "    }\n",
              "</style>\n",
              "<table border=\"1\" class=\"dataframe\">\n",
              "  <thead>\n",
              "    <tr style=\"text-align: right;\">\n",
              "      <th></th>\n",
              "      <th>box</th>\n",
              "      <th>G</th>\n",
              "      <th>PG</th>\n",
              "      <th>PG13</th>\n",
              "      <th>budget</th>\n",
              "      <th>starpowr</th>\n",
              "      <th>sequel</th>\n",
              "      <th>action</th>\n",
              "      <th>comedy</th>\n",
              "      <th>animated</th>\n",
              "      <th>horror</th>\n",
              "      <th>addict</th>\n",
              "      <th>cmngsoon</th>\n",
              "      <th>fandango</th>\n",
              "      <th>cntwait3</th>\n",
              "    </tr>\n",
              "  </thead>\n",
              "  <tbody>\n",
              "    <tr>\n",
              "      <th>0</th>\n",
              "      <td>19167085</td>\n",
              "      <td>0</td>\n",
              "      <td>0</td>\n",
              "      <td>0</td>\n",
              "      <td>28.0</td>\n",
              "      <td>19.83</td>\n",
              "      <td>0</td>\n",
              "      <td>0</td>\n",
              "      <td>1</td>\n",
              "      <td>0</td>\n",
              "      <td>0</td>\n",
              "      <td>7860.50</td>\n",
              "      <td>10</td>\n",
              "      <td>144</td>\n",
              "      <td>0.49</td>\n",
              "    </tr>\n",
              "    <tr>\n",
              "      <th>1</th>\n",
              "      <td>63106589</td>\n",
              "      <td>0</td>\n",
              "      <td>1</td>\n",
              "      <td>0</td>\n",
              "      <td>150.0</td>\n",
              "      <td>32.69</td>\n",
              "      <td>1</td>\n",
              "      <td>0</td>\n",
              "      <td>0</td>\n",
              "      <td>1</td>\n",
              "      <td>0</td>\n",
              "      <td>5737.00</td>\n",
              "      <td>59</td>\n",
              "      <td>468</td>\n",
              "      <td>0.79</td>\n",
              "    </tr>\n",
              "    <tr>\n",
              "      <th>2</th>\n",
              "      <td>5401605</td>\n",
              "      <td>0</td>\n",
              "      <td>0</td>\n",
              "      <td>0</td>\n",
              "      <td>37.4</td>\n",
              "      <td>15.69</td>\n",
              "      <td>0</td>\n",
              "      <td>0</td>\n",
              "      <td>1</td>\n",
              "      <td>0</td>\n",
              "      <td>0</td>\n",
              "      <td>850.00</td>\n",
              "      <td>24</td>\n",
              "      <td>198</td>\n",
              "      <td>0.36</td>\n",
              "    </tr>\n",
              "    <tr>\n",
              "      <th>3</th>\n",
              "      <td>67528882</td>\n",
              "      <td>0</td>\n",
              "      <td>0</td>\n",
              "      <td>1</td>\n",
              "      <td>200.0</td>\n",
              "      <td>23.62</td>\n",
              "      <td>1</td>\n",
              "      <td>1</td>\n",
              "      <td>0</td>\n",
              "      <td>0</td>\n",
              "      <td>0</td>\n",
              "      <td>15326.00</td>\n",
              "      <td>93</td>\n",
              "      <td>1778</td>\n",
              "      <td>0.76</td>\n",
              "    </tr>\n",
              "    <tr>\n",
              "      <th>4</th>\n",
              "      <td>26223128</td>\n",
              "      <td>0</td>\n",
              "      <td>1</td>\n",
              "      <td>0</td>\n",
              "      <td>150.0</td>\n",
              "      <td>19.02</td>\n",
              "      <td>0</td>\n",
              "      <td>0</td>\n",
              "      <td>0</td>\n",
              "      <td>1</td>\n",
              "      <td>0</td>\n",
              "      <td>4574.25</td>\n",
              "      <td>30</td>\n",
              "      <td>1109</td>\n",
              "      <td>0.53</td>\n",
              "    </tr>\n",
              "  </tbody>\n",
              "</table>\n",
              "</div>"
            ],
            "text/plain": [
              "        box  G  PG  PG13  budget  starpowr  sequel  action  comedy  animated  \\\n",
              "0  19167085  0   0     0    28.0     19.83       0       0       1         0   \n",
              "1  63106589  0   1     0   150.0     32.69       1       0       0         1   \n",
              "2   5401605  0   0     0    37.4     15.69       0       0       1         0   \n",
              "3  67528882  0   0     1   200.0     23.62       1       1       0         0   \n",
              "4  26223128  0   1     0   150.0     19.02       0       0       0         1   \n",
              "\n",
              "   horror    addict  cmngsoon  fandango  cntwait3  \n",
              "0       0   7860.50        10       144      0.49  \n",
              "1       0   5737.00        59       468      0.79  \n",
              "2       0    850.00        24       198      0.36  \n",
              "3       0  15326.00        93      1778      0.76  \n",
              "4       0   4574.25        30      1109      0.53  "
            ]
          },
          "execution_count": 68,
          "metadata": {},
          "output_type": "execute_result"
        }
      ],
      "source": [
        "#Specify the directory to use (Adjust as needed)\n",
        "os.chdir(r'C:/Users/Admin')\n",
        "\n",
        "# import dataset and save as pandas dataframe\n",
        "df = pd.read_csv(r'boxOffice.csv')\n",
        "\n",
        "# show first 5 rows\n",
        "df.head()"
      ]
    },
    {
      "cell_type": "markdown",
      "metadata": {
        "id": "ZR3XO7C77Zo-"
      },
      "source": [
        "CREATE NEW \"BOX\" VARIABLE IN MILLIONS OF $"
      ]
    },
    {
      "cell_type": "code",
      "execution_count": 69,
      "metadata": {
        "colab": {
          "base_uri": "https://localhost:8080/",
          "height": 227
        },
        "id": "guvl3uC4Kgao",
        "outputId": "2864b149-cbdd-49cd-ebd5-ed7381b774ba"
      },
      "outputs": [
        {
          "data": {
            "text/html": [
              "<div>\n",
              "<style scoped>\n",
              "    .dataframe tbody tr th:only-of-type {\n",
              "        vertical-align: middle;\n",
              "    }\n",
              "\n",
              "    .dataframe tbody tr th {\n",
              "        vertical-align: top;\n",
              "    }\n",
              "\n",
              "    .dataframe thead th {\n",
              "        text-align: right;\n",
              "    }\n",
              "</style>\n",
              "<table border=\"1\" class=\"dataframe\">\n",
              "  <thead>\n",
              "    <tr style=\"text-align: right;\">\n",
              "      <th></th>\n",
              "      <th>box</th>\n",
              "      <th>G</th>\n",
              "      <th>PG</th>\n",
              "      <th>PG13</th>\n",
              "      <th>budget</th>\n",
              "      <th>starpowr</th>\n",
              "      <th>sequel</th>\n",
              "      <th>action</th>\n",
              "      <th>comedy</th>\n",
              "      <th>animated</th>\n",
              "      <th>horror</th>\n",
              "      <th>addict</th>\n",
              "      <th>cmngsoon</th>\n",
              "      <th>fandango</th>\n",
              "      <th>cntwait3</th>\n",
              "    </tr>\n",
              "  </thead>\n",
              "  <tbody>\n",
              "    <tr>\n",
              "      <th>0</th>\n",
              "      <td>19.167085</td>\n",
              "      <td>0</td>\n",
              "      <td>0</td>\n",
              "      <td>0</td>\n",
              "      <td>28.0</td>\n",
              "      <td>19.83</td>\n",
              "      <td>0</td>\n",
              "      <td>0</td>\n",
              "      <td>1</td>\n",
              "      <td>0</td>\n",
              "      <td>0</td>\n",
              "      <td>7860.50</td>\n",
              "      <td>10</td>\n",
              "      <td>144</td>\n",
              "      <td>0.49</td>\n",
              "    </tr>\n",
              "    <tr>\n",
              "      <th>1</th>\n",
              "      <td>63.106589</td>\n",
              "      <td>0</td>\n",
              "      <td>1</td>\n",
              "      <td>0</td>\n",
              "      <td>150.0</td>\n",
              "      <td>32.69</td>\n",
              "      <td>1</td>\n",
              "      <td>0</td>\n",
              "      <td>0</td>\n",
              "      <td>1</td>\n",
              "      <td>0</td>\n",
              "      <td>5737.00</td>\n",
              "      <td>59</td>\n",
              "      <td>468</td>\n",
              "      <td>0.79</td>\n",
              "    </tr>\n",
              "    <tr>\n",
              "      <th>2</th>\n",
              "      <td>5.401605</td>\n",
              "      <td>0</td>\n",
              "      <td>0</td>\n",
              "      <td>0</td>\n",
              "      <td>37.4</td>\n",
              "      <td>15.69</td>\n",
              "      <td>0</td>\n",
              "      <td>0</td>\n",
              "      <td>1</td>\n",
              "      <td>0</td>\n",
              "      <td>0</td>\n",
              "      <td>850.00</td>\n",
              "      <td>24</td>\n",
              "      <td>198</td>\n",
              "      <td>0.36</td>\n",
              "    </tr>\n",
              "    <tr>\n",
              "      <th>3</th>\n",
              "      <td>67.528882</td>\n",
              "      <td>0</td>\n",
              "      <td>0</td>\n",
              "      <td>1</td>\n",
              "      <td>200.0</td>\n",
              "      <td>23.62</td>\n",
              "      <td>1</td>\n",
              "      <td>1</td>\n",
              "      <td>0</td>\n",
              "      <td>0</td>\n",
              "      <td>0</td>\n",
              "      <td>15326.00</td>\n",
              "      <td>93</td>\n",
              "      <td>1778</td>\n",
              "      <td>0.76</td>\n",
              "    </tr>\n",
              "    <tr>\n",
              "      <th>4</th>\n",
              "      <td>26.223128</td>\n",
              "      <td>0</td>\n",
              "      <td>1</td>\n",
              "      <td>0</td>\n",
              "      <td>150.0</td>\n",
              "      <td>19.02</td>\n",
              "      <td>0</td>\n",
              "      <td>0</td>\n",
              "      <td>0</td>\n",
              "      <td>1</td>\n",
              "      <td>0</td>\n",
              "      <td>4574.25</td>\n",
              "      <td>30</td>\n",
              "      <td>1109</td>\n",
              "      <td>0.53</td>\n",
              "    </tr>\n",
              "  </tbody>\n",
              "</table>\n",
              "</div>"
            ],
            "text/plain": [
              "         box  G  PG  PG13  budget  starpowr  sequel  action  comedy  animated  \\\n",
              "0  19.167085  0   0     0    28.0     19.83       0       0       1         0   \n",
              "1  63.106589  0   1     0   150.0     32.69       1       0       0         1   \n",
              "2   5.401605  0   0     0    37.4     15.69       0       0       1         0   \n",
              "3  67.528882  0   0     1   200.0     23.62       1       1       0         0   \n",
              "4  26.223128  0   1     0   150.0     19.02       0       0       0         1   \n",
              "\n",
              "   horror    addict  cmngsoon  fandango  cntwait3  \n",
              "0       0   7860.50        10       144      0.49  \n",
              "1       0   5737.00        59       468      0.79  \n",
              "2       0    850.00        24       198      0.36  \n",
              "3       0  15326.00        93      1778      0.76  \n",
              "4       0   4574.25        30      1109      0.53  "
            ]
          },
          "execution_count": 69,
          "metadata": {},
          "output_type": "execute_result"
        }
      ],
      "source": [
        "# create new \"box\" variable in millions of $ (in scale with \"budget\" variable)\n",
        "df[\"box\"] = df[\"box\"] / 1000000\n",
        "df.head()"
      ]
    },
    {
      "cell_type": "markdown",
      "metadata": {
        "id": "p0gCIXOa6Zob"
      },
      "source": [
        "# **QUESTION 1**\n",
        "\n"
      ]
    },
    {
      "cell_type": "markdown",
      "metadata": {
        "id": "ALTu7bIX7gW_"
      },
      "source": [
        "HISTOGRAMS OF \"BOX\", \"BUDGET\", AND \"STARPOWR\" VARIABLES"
      ]
    },
    {
      "cell_type": "code",
      "execution_count": 6,
      "metadata": {
        "colab": {
          "base_uri": "https://localhost:8080/",
          "height": 1000
        },
        "id": "hdyJwydDQxca",
        "outputId": "5c200a05-2865-41d0-b0ac-41bb77f7f639"
      },
      "outputs": [
        {
          "data": {
            "image/png": "[encoded data removed]",
            "text/plain": [
              "<Figure size 640x480 with 1 Axes>"
            ]
          },
          "metadata": {},
          "output_type": "display_data"
        },
        {
          "data": {
            "image/png": "[encoded data removed]",
            "text/plain": [
              "<Figure size 640x480 with 1 Axes>"
            ]
          },
          "metadata": {},
          "output_type": "display_data"
        },
        {
          "data": {
            "image/png": "[encoded data removed]",
            "text/plain": [
              "<Figure size 640x480 with 1 Axes>"
            ]
          },
          "metadata": {},
          "output_type": "display_data"
        }
      ],
      "source": [
        "# histograms of \"box\", \"budget\", and \"starpowr\" variables\n",
        "col1 = [\"box\", \"budget\", \"starpowr\"] # create a list of the variables of interest\n",
        "title1 = [\"Domestic Opening Weekend Box Office Revenues (in millions of $)\", \"Production Budget (in millions of $)\", \"Star Power Rating\"]\n",
        "for col in col1: # loop through the columns\n",
        "  plt.hist(df[col],\n",
        "         bins = 10,# split into 10 equal-width bins\n",
        "           edgecolor='black') # draw a black outline around each bar of the histogram\n",
        "  idx = col1.index(col) # extract the index in the column list\n",
        "  coltitle = \"Histogram of \" + str(title1[idx])\n",
        "  plt.title(coltitle) # specify histogram title\n",
        "  plt.xlabel(title1[idx]) # specify x-axis label\n",
        "  plt.ylabel(\"Frequency\") # specify y-axis label\n",
        "  plt.show() # show the histograms one by one"
      ]
    },
    {
      "cell_type": "markdown",
      "metadata": {
        "id": "J_RhjLKYFFhs"
      },
      "source": [
        "> **Observation:** The distribution of the \"box\" and \"budget\" variables are right-skewed and therefore needs log-transformation, while the distribution of the \"starpowr\" variable is not skewed."
      ]
    },
    {
      "cell_type": "code",
      "execution_count": 7,
      "metadata": {
        "colab": {
          "base_uri": "https://localhost:8080/"
        },
        "id": "GqBoq1mBqjMA",
        "outputId": "bf7b3ecc-d301-47fe-d0a2-195c0584ea8a"
      },
      "outputs": [
        {
          "name": "stdout",
          "output_type": "stream",
          "text": [
            "Column: box\n",
            "Skewness: 1.4381514053596909\n",
            "Column: budget\n",
            "Skewness: 1.750974376843945\n",
            "Column: starpowr\n",
            "Skewness: -0.06579037421830648\n"
          ]
        }
      ],
      "source": [
        "from scipy.stats import skew\n",
        "columns = ['box', 'budget', 'starpowr']\n",
        "for col in columns:\n",
        "  print(f\"Column: {col}\")\n",
        "  print(f\"Skewness: {skew(df[col]):}\")"
      ]
    },
    {
      "cell_type": "markdown",
      "metadata": {
        "id": "MxEga6hV7oqL"
      },
      "source": [
        "HISTOGRAM OF LOG-TRANSFORMED \"BOX\" VARIABLE"
      ]
    },
    {
      "cell_type": "code",
      "execution_count": 8,
      "metadata": {
        "colab": {
          "base_uri": "https://localhost:8080/",
          "height": 510
        },
        "id": "N84qmc-ISwA4",
        "outputId": "1e82f3e9-ba34-45b9-f483-b0468d19efaf"
      },
      "outputs": [
        {
          "data": {
            "text/plain": [
              "Text(0, 0.5, 'Frequency')"
            ]
          },
          "execution_count": 8,
          "metadata": {},
          "output_type": "execute_result"
        },
        {
          "data": {
            "image/png": "[encoded data removed]",
            "text/plain": [
              "<Figure size 640x480 with 1 Axes>"
            ]
          },
          "metadata": {},
          "output_type": "display_data"
        }
      ],
      "source": [
        "# Since the distribution of the \"box\" variable is right-skewed, we will apply the log transformation.\n",
        "# histogram of log(\"box\") variable\n",
        "df[\"log_box\"] = np.log(df[\"box\"])\n",
        "plt.hist(df[\"log_box\"], # represent data in tens of millions\n",
        "         bins = 10, # split into 10 equal-width bins\n",
        "        edgecolor='black') # draw a black outline around each bar of the histogram\n",
        "plt.title(\"Histogram of Log(Domestic Opening Weekend Box Office Revenues (in millions of $))\") # specify histogram title\n",
        "plt.xlabel(\"Log(Domestic Opening Weekend Box Office Revenues (in millions of $))\") # specify x-axis label\n",
        "plt.ylabel(\"Frequency\") # specify y-axis label"
      ]
    },
    {
      "cell_type": "markdown",
      "metadata": {
        "id": "-UKCahH27sYM"
      },
      "source": [
        "HISTOGRAM OF LOG-TRANSFORMED \"BUDGET\" VARIABLE"
      ]
    },
    {
      "cell_type": "code",
      "execution_count": 9,
      "metadata": {
        "colab": {
          "base_uri": "https://localhost:8080/",
          "height": 510
        },
        "id": "y0V_CqicZYUN",
        "outputId": "dfb5def6-7b82-4a73-9354-db96de936d18"
      },
      "outputs": [
        {
          "data": {
            "text/plain": [
              "Text(0, 0.5, 'Frequency')"
            ]
          },
          "execution_count": 9,
          "metadata": {},
          "output_type": "execute_result"
        },
        {
          "data": {
            "image/png": "[encoded data removed]",
            "text/plain": [
              "<Figure size 640x480 with 1 Axes>"
            ]
          },
          "metadata": {},
          "output_type": "display_data"
        }
      ],
      "source": [
        "# Since the distribution of the \"budget\" variable is right-skewed, we will apply the log transformation.\n",
        "# histogram of log(\"budget\") variable\n",
        "df[\"log_budget\"] = np.log(df[\"budget\"])\n",
        "plt.hist(df[\"log_budget\"],\n",
        "         bins = 10, # split into 10 equal-width bins\n",
        "         edgecolor='black') # draw a black outline around each bar of the histogram\n",
        "plt.title(\"Histogram of Log(Production Budget (in millions of $))\") # specify histogram title\n",
        "plt.xlabel(\"Log(Production Budget (in millions of $))\") # specify x-axis label\n",
        "plt.ylabel(\"Frequency\") # specify y-axis label"
      ]
    },
    {
      "cell_type": "code",
      "execution_count": 10,
      "metadata": {
        "colab": {
          "base_uri": "https://localhost:8080/"
        },
        "id": "77YrkCuJq5CW",
        "outputId": "83c27193-a1cf-4ee6-b12f-a8a6d0e635a6"
      },
      "outputs": [
        {
          "name": "stdout",
          "output_type": "stream",
          "text": [
            "Column: log_box\n",
            "Skewness: -0.6777190029189326\n",
            "Column: log_budget\n",
            "Skewness: -0.013388491280200273\n"
          ]
        }
      ],
      "source": [
        "columns_log = ['log_box', 'log_budget']\n",
        "for col in columns_log:\n",
        "  print(f\"Column: {col}\")\n",
        "  print(f\"Skewness: {skew(df[col]):}\")"
      ]
    },
    {
      "cell_type": "markdown",
      "metadata": {
        "id": "RkhzPh1o8koV"
      },
      "source": [
        "REMOVE THE ORIGINAL \"BOX\" AND \"BUDGET\" VARIABLES"
      ]
    },
    {
      "cell_type": "code",
      "execution_count": 11,
      "metadata": {
        "colab": {
          "base_uri": "https://localhost:8080/",
          "height": 227
        },
        "id": "GpHMBJDFZ7fQ",
        "outputId": "9cfca66b-a132-4f7d-c242-8f3047f8a659"
      },
      "outputs": [
        {
          "data": {
            "text/html": [
              "<div>\n",
              "<style scoped>\n",
              "    .dataframe tbody tr th:only-of-type {\n",
              "        vertical-align: middle;\n",
              "    }\n",
              "\n",
              "    .dataframe tbody tr th {\n",
              "        vertical-align: top;\n",
              "    }\n",
              "\n",
              "    .dataframe thead th {\n",
              "        text-align: right;\n",
              "    }\n",
              "</style>\n",
              "<table border=\"1\" class=\"dataframe\">\n",
              "  <thead>\n",
              "    <tr style=\"text-align: right;\">\n",
              "      <th></th>\n",
              "      <th>G</th>\n",
              "      <th>PG</th>\n",
              "      <th>PG13</th>\n",
              "      <th>starpowr</th>\n",
              "      <th>sequel</th>\n",
              "      <th>action</th>\n",
              "      <th>comedy</th>\n",
              "      <th>animated</th>\n",
              "      <th>horror</th>\n",
              "      <th>addict</th>\n",
              "      <th>cmngsoon</th>\n",
              "      <th>fandango</th>\n",
              "      <th>cntwait3</th>\n",
              "      <th>log_box</th>\n",
              "      <th>log_budget</th>\n",
              "    </tr>\n",
              "  </thead>\n",
              "  <tbody>\n",
              "    <tr>\n",
              "      <th>0</th>\n",
              "      <td>0</td>\n",
              "      <td>0</td>\n",
              "      <td>0</td>\n",
              "      <td>19.83</td>\n",
              "      <td>0</td>\n",
              "      <td>0</td>\n",
              "      <td>1</td>\n",
              "      <td>0</td>\n",
              "      <td>0</td>\n",
              "      <td>7860.50</td>\n",
              "      <td>10</td>\n",
              "      <td>144</td>\n",
              "      <td>0.49</td>\n",
              "      <td>2.953194</td>\n",
              "      <td>3.332205</td>\n",
              "    </tr>\n",
              "    <tr>\n",
              "      <th>1</th>\n",
              "      <td>0</td>\n",
              "      <td>1</td>\n",
              "      <td>0</td>\n",
              "      <td>32.69</td>\n",
              "      <td>1</td>\n",
              "      <td>0</td>\n",
              "      <td>0</td>\n",
              "      <td>1</td>\n",
              "      <td>0</td>\n",
              "      <td>5737.00</td>\n",
              "      <td>59</td>\n",
              "      <td>468</td>\n",
              "      <td>0.79</td>\n",
              "      <td>4.144825</td>\n",
              "      <td>5.010635</td>\n",
              "    </tr>\n",
              "    <tr>\n",
              "      <th>2</th>\n",
              "      <td>0</td>\n",
              "      <td>0</td>\n",
              "      <td>0</td>\n",
              "      <td>15.69</td>\n",
              "      <td>0</td>\n",
              "      <td>0</td>\n",
              "      <td>1</td>\n",
              "      <td>0</td>\n",
              "      <td>0</td>\n",
              "      <td>850.00</td>\n",
              "      <td>24</td>\n",
              "      <td>198</td>\n",
              "      <td>0.36</td>\n",
              "      <td>1.686696</td>\n",
              "      <td>3.621671</td>\n",
              "    </tr>\n",
              "    <tr>\n",
              "      <th>3</th>\n",
              "      <td>0</td>\n",
              "      <td>0</td>\n",
              "      <td>1</td>\n",
              "      <td>23.62</td>\n",
              "      <td>1</td>\n",
              "      <td>1</td>\n",
              "      <td>0</td>\n",
              "      <td>0</td>\n",
              "      <td>0</td>\n",
              "      <td>15326.00</td>\n",
              "      <td>93</td>\n",
              "      <td>1778</td>\n",
              "      <td>0.76</td>\n",
              "      <td>4.212555</td>\n",
              "      <td>5.298317</td>\n",
              "    </tr>\n",
              "    <tr>\n",
              "      <th>4</th>\n",
              "      <td>0</td>\n",
              "      <td>1</td>\n",
              "      <td>0</td>\n",
              "      <td>19.02</td>\n",
              "      <td>0</td>\n",
              "      <td>0</td>\n",
              "      <td>0</td>\n",
              "      <td>1</td>\n",
              "      <td>0</td>\n",
              "      <td>4574.25</td>\n",
              "      <td>30</td>\n",
              "      <td>1109</td>\n",
              "      <td>0.53</td>\n",
              "      <td>3.266642</td>\n",
              "      <td>5.010635</td>\n",
              "    </tr>\n",
              "  </tbody>\n",
              "</table>\n",
              "</div>"
            ],
            "text/plain": [
              "   G  PG  PG13  starpowr  sequel  action  comedy  animated  horror    addict  \\\n",
              "0  0   0     0     19.83       0       0       1         0       0   7860.50   \n",
              "1  0   1     0     32.69       1       0       0         1       0   5737.00   \n",
              "2  0   0     0     15.69       0       0       1         0       0    850.00   \n",
              "3  0   0     1     23.62       1       1       0         0       0  15326.00   \n",
              "4  0   1     0     19.02       0       0       0         1       0   4574.25   \n",
              "\n",
              "   cmngsoon  fandango  cntwait3   log_box  log_budget  \n",
              "0        10       144      0.49  2.953194    3.332205  \n",
              "1        59       468      0.79  4.144825    5.010635  \n",
              "2        24       198      0.36  1.686696    3.621671  \n",
              "3        93      1778      0.76  4.212555    5.298317  \n",
              "4        30      1109      0.53  3.266642    5.010635  "
            ]
          },
          "execution_count": 11,
          "metadata": {},
          "output_type": "execute_result"
        }
      ],
      "source": [
        "# remove all the variables that have been applied log-transformation\n",
        "df = df.drop([\"box\", \"budget\"], axis = 1)\n",
        "df.head()"
      ]
    },
    {
      "cell_type": "markdown",
      "metadata": {
        "id": "VayB4sKr8pag"
      },
      "source": [
        "# **QUESTION 2**"
      ]
    },
    {
      "cell_type": "markdown",
      "metadata": {
        "id": "cbaxLEcv80Bl"
      },
      "source": [
        "RUN LINEAR REGRESSION MODEL ON TRADITIONAL VARIABLES"
      ]
    },
    {
      "cell_type": "code",
      "execution_count": 12,
      "metadata": {
        "colab": {
          "base_uri": "https://localhost:8080/"
        },
        "id": "EofWLRKvZ-y6",
        "outputId": "173b3391-0122-4e72-f883-2a22837e0530"
      },
      "outputs": [
        {
          "name": "stdout",
          "output_type": "stream",
          "text": [
            "Linear Regression of Independent Variables (Without \"buzz\" variables)\n",
            "\n",
            "                            OLS Regression Results                            \n",
            "==============================================================================\n",
            "Dep. Variable:                log_box   R-squared:                       0.342\n",
            "Model:                            OLS   Adj. R-squared:                  0.214\n",
            "Method:                 Least Squares   F-statistic:                     2.656\n",
            "Date:                Sat, 07 Sep 2024   Prob (F-statistic):             0.0109\n",
            "Time:                        22:57:38   Log-Likelihood:                -70.832\n",
            "No. Observations:                  62   AIC:                             163.7\n",
            "Df Residuals:                      51   BIC:                             187.1\n",
            "Df Model:                          10                                         \n",
            "Covariance Type:            nonrobust                                         \n",
            "==============================================================================\n",
            "                 coef    std err          t      P>|t|      [0.025      0.975]\n",
            "------------------------------------------------------------------------------\n",
            "const         -0.2387      0.688     -0.347      0.730      -1.620       1.143\n",
            "G              0.2524      0.692      0.365      0.717      -1.137       1.642\n",
            "PG             0.3297      0.372      0.885      0.380      -0.418       1.077\n",
            "PG13           0.0718      0.272      0.264      0.793      -0.474       0.618\n",
            "log_budget     0.7091      0.208      3.407      0.001       0.291       1.127\n",
            "starpowr       0.0065      0.016      0.403      0.689      -0.026       0.039\n",
            "sequel         0.6437      0.331      1.942      0.058      -0.022       1.309\n",
            "action        -0.3068      0.344     -0.892      0.377      -0.997       0.384\n",
            "comedy        -0.0385      0.321     -0.120      0.905      -0.682       0.605\n",
            "animated      -0.8203      0.539     -1.523      0.134      -1.902       0.261\n",
            "horror         1.0264      0.440      2.332      0.024       0.143       1.910\n",
            "==============================================================================\n",
            "Omnibus:                        7.632   Durbin-Watson:                   2.080\n",
            "Prob(Omnibus):                  0.022   Jarque-Bera (JB):                7.280\n",
            "Skew:                          -0.626   Prob(JB):                       0.0262\n",
            "Kurtosis:                       4.119   Cond. No.                         153.\n",
            "==============================================================================\n",
            "\n",
            "Notes:\n",
            "[1] Standard Errors assume that the covariance matrix of the errors is correctly specified.\n"
          ]
        }
      ],
      "source": [
        "# define X as a copy of the data frame (after log-transformation of \"box\" and \"budget\")\n",
        "X = df.copy()\n",
        "\n",
        "# define the vector X_traditional as a list of traditional variables and y as the target variable\n",
        "X_traditional = X[[\"G\", \"PG\", \"PG13\", \"log_budget\", \"starpowr\", \"sequel\", \"action\", \"comedy\", \"animated\", \"horror\"]]\n",
        "y = df[\"log_box\"]\n",
        "\n",
        "# add intercept before running least squares regression using statsmodel\n",
        "X_traditional = sm.add_constant(X_traditional)\n",
        "\n",
        "# run linear regression and print the summary\n",
        "lr_traditional = sm.OLS(y, X_traditional).fit() # fit linear regression model to X and y using ordinary least squares method\n",
        "print('Linear Regression of Independent Variables (Without \"buzz\" variables)')\n",
        "print()\n",
        "print(lr_traditional.summary())"
      ]
    },
    {
      "cell_type": "markdown",
      "metadata": {
        "id": "tglMezMR9_hc"
      },
      "source": [
        "> $R^2$ AND ADJUSTED $R^2$\n"
      ]
    },
    {
      "cell_type": "code",
      "execution_count": 13,
      "metadata": {
        "colab": {
          "base_uri": "https://localhost:8080/"
        },
        "id": "BSN3PK6H9W8F",
        "outputId": "8310b3bb-4b72-46cb-800c-7ddff9eda488"
      },
      "outputs": [
        {
          "name": "stdout",
          "output_type": "stream",
          "text": [
            "R^2 = 0.342\n",
            "Adjusted R^2 = 0.214\n"
          ]
        }
      ],
      "source": [
        "print(f\"R^2 = {lr_traditional.rsquared:.3f}\")\n",
        "print(f\"Adjusted R^2 = {lr_traditional.rsquared_adj:.3f}\")"
      ]
    },
    {
      "cell_type": "markdown",
      "metadata": {
        "id": "aBzcEE7H9I9X"
      },
      "source": [
        "> If the p-value is less than 0.10 confidence level, we reject the null hypothesis that the coefficient estimate of the corresponding independent variable is equal to 0, meaning that we can say the independent is statistically significant. Otherwise, we cannot reject the null hypothesis, meaning that the independent variable is not statistically significant.<br><br>\n",
        "SIGNIFICANT VARIABLES:\n",
        "*   log_budget\n",
        "*   sequel\n",
        "*   horror\n",
        "\n",
        "\n"
      ]
    },
    {
      "cell_type": "markdown",
      "metadata": {
        "id": "ndWvRsF3BUr4"
      },
      "source": [
        "# **QUESTION 3**"
      ]
    },
    {
      "cell_type": "markdown",
      "metadata": {
        "id": "pRF910NgBR8-"
      },
      "source": [
        "RUN LINEAR REGRESSION MODEL ON SIGNIFICANT TRADITIONAL VARIABLES"
      ]
    },
    {
      "cell_type": "code",
      "execution_count": 14,
      "metadata": {
        "colab": {
          "base_uri": "https://localhost:8080/"
        },
        "id": "MYoxnHzbaHXr",
        "outputId": "8269b88b-d41a-4aac-cd5e-c96819915fbd"
      },
      "outputs": [
        {
          "name": "stdout",
          "output_type": "stream",
          "text": [
            "Linear Regression of Significiant Independent Variables (Without \"buzz\" variables)\n",
            "\n",
            "                            OLS Regression Results                            \n",
            "==============================================================================\n",
            "Dep. Variable:                log_box   R-squared:                       0.291\n",
            "Model:                            OLS   Adj. R-squared:                  0.254\n",
            "Method:                 Least Squares   F-statistic:                     7.929\n",
            "Date:                Sat, 07 Sep 2024   Prob (F-statistic):           0.000162\n",
            "Time:                        22:57:39   Log-Likelihood:                -73.175\n",
            "No. Observations:                  62   AIC:                             154.4\n",
            "Df Residuals:                      58   BIC:                             162.9\n",
            "Df Model:                           3                                         \n",
            "Covariance Type:            nonrobust                                         \n",
            "==============================================================================\n",
            "                 coef    std err          t      P>|t|      [0.025      0.975]\n",
            "------------------------------------------------------------------------------\n",
            "const          0.0563      0.611      0.092      0.927      -1.167       1.280\n",
            "log_budget     0.6568      0.159      4.124      0.000       0.338       0.976\n",
            "sequel         0.4994      0.298      1.676      0.099      -0.097       1.096\n",
            "horror         0.9908      0.385      2.574      0.013       0.220       1.761\n",
            "==============================================================================\n",
            "Omnibus:                       17.577   Durbin-Watson:                   2.065\n",
            "Prob(Omnibus):                  0.000   Jarque-Bera (JB):               28.607\n",
            "Skew:                          -0.969   Prob(JB):                     6.14e-07\n",
            "Kurtosis:                       5.704   Cond. No.                         25.1\n",
            "==============================================================================\n",
            "\n",
            "Notes:\n",
            "[1] Standard Errors assume that the covariance matrix of the errors is correctly specified.\n"
          ]
        }
      ],
      "source": [
        "# run linear regression using only significant traditional variables (log_budget, sequel, and horror)\n",
        "X_traditional_significant = df[[\"log_budget\", \"sequel\", \"horror\"]]\n",
        "\n",
        "# add intercept before running least squares regression using statsmodel\n",
        "X_traditional_significant = sm.add_constant(X_traditional_significant)\n",
        "\n",
        "# run linear regression and print the summary\n",
        "lr_traditional_significant = sm.OLS(y, X_traditional_significant).fit()\n",
        "\n",
        "print('Linear Regression of Significiant Independent Variables (Without \"buzz\" variables)')\n",
        "print()\n",
        "print(lr_traditional_significant.summary())"
      ]
    },
    {
      "cell_type": "markdown",
      "metadata": {
        "id": "WrXvfDurBeaq"
      },
      "source": [
        "> $R^2$ AND ADJUSTED $R^2$"
      ]
    },
    {
      "cell_type": "code",
      "execution_count": 15,
      "metadata": {
        "colab": {
          "base_uri": "https://localhost:8080/"
        },
        "id": "bSPn3taNBcu1",
        "outputId": "77585a81-87ad-47c5-b606-f204ffb8cac4"
      },
      "outputs": [
        {
          "name": "stdout",
          "output_type": "stream",
          "text": [
            "R^2 = 0.291\n",
            "Adjusted R^2 = 0.254\n"
          ]
        }
      ],
      "source": [
        "print(f\"R^2 = {lr_traditional_significant.rsquared:.3f}\")\n",
        "print(f\"Adjusted R^2 = {lr_traditional_significant.rsquared_adj:.3f}\")"
      ]
    },
    {
      "cell_type": "markdown",
      "metadata": {
        "id": "rXXDR4grEgJy"
      },
      "source": [
        "> SIGNIFICANT VARIABLES:<br>\n",
        "All the variables are still significant at the 0.10 level because the p-values are all < 0.10."
      ]
    },
    {
      "cell_type": "markdown",
      "metadata": {
        "id": "ywqepctJEugQ"
      },
      "source": [
        "# **QUESTION 4**"
      ]
    },
    {
      "cell_type": "markdown",
      "metadata": {
        "id": "ktNFoJ6aEx3b"
      },
      "source": [
        "HISTORGRAMS OF 4 \"BUZZ\" VARIABLES: \"ADDICT\", \"CMNGSOON\", \"FANDANGO\", AND \"CNTWAIT3\""
      ]
    },
    {
      "cell_type": "code",
      "execution_count": 16,
      "metadata": {
        "colab": {
          "base_uri": "https://localhost:8080/",
          "height": 1000
        },
        "id": "yY7gr-YOaKPO",
        "outputId": "b8e524ad-7e9f-4298-fd60-72174e75b297",
        "scrolled": false
      },
      "outputs": [
        {
          "data": {
            "image/png": "[encoded data removed]",
            "text/plain": [
              "<Figure size 640x480 with 1 Axes>"
            ]
          },
          "metadata": {},
          "output_type": "display_data"
        },
        {
          "data": {
            "image/png": "[encoded data removed]",
            "text/plain": [
              "<Figure size 640x480 with 1 Axes>"
            ]
          },
          "metadata": {},
          "output_type": "display_data"
        },
        {
          "data": {
            "image/png": "[encoded data removed]",
            "text/plain": [
              "<Figure size 640x480 with 1 Axes>"
            ]
          },
          "metadata": {},
          "output_type": "display_data"
        },
        {
          "data": {
            "image/png": "[encoded data removed]",
            "text/plain": [
              "<Figure size 640x480 with 1 Axes>"
            ]
          },
          "metadata": {},
          "output_type": "display_data"
        }
      ],
      "source": [
        "# histograms of \"addict\", \"cmngsoon\", \"fandango\", and \"cntwait3\" variables\n",
        "col1 = [\"addict\", \"cmngsoon\", \"fandango\", \"cntwait3\"] # create a list of the variables of interest\n",
        "title1 = [\"Number of Trailer Views at traileraddict.com\",\n",
        "          \"Number of Message Board Comments at comingsoon.net\",\n",
        "          \"Sum of 'can't wait' and 'don't care' Votes at fandango.com\",\n",
        "          \"Percent of 'can't wait' Votes at fandango.com\"]\n",
        "for col in col1: # loop through the columns\n",
        "  plt.hist(df[col],\n",
        "         bins = 10, # split into 10 equal-width bins\n",
        "         edgecolor='black') # draw a black outline around each bar of the histogram\n",
        "  idx = col1.index(col) # extract the index in the column list\n",
        "  coltitle = \"Histogram of \" + str(title1[idx])\n",
        "  plt.title(coltitle) # specify histogram title\n",
        "  plt.xlabel(title1[idx]) # specify x-axis label\n",
        "  plt.ylabel(\"Frequency\") # specify y-axis label\n",
        "  plt.show() # show the histograms one by one"
      ]
    },
    {
      "cell_type": "markdown",
      "metadata": {
        "id": "KHA6kjO7F4BD"
      },
      "source": [
        "> **Observation:** The distribution of the “addict”, “cmngsoon”, and “fandango” variables are right-skewed and therefore needs log-transformation. The distribution of the “cntwait3” variable is not skewed and therefore does not need log-transformation."
      ]
    },
    {
      "cell_type": "code",
      "execution_count": 17,
      "metadata": {
        "colab": {
          "base_uri": "https://localhost:8080/"
        },
        "id": "GhJtvQbwu5cx",
        "outputId": "cadda002-be24-454c-ab42-c1db6ea0095c"
      },
      "outputs": [
        {
          "name": "stdout",
          "output_type": "stream",
          "text": [
            "Column: addict\n",
            "Skewness: 3.236354434055483\n",
            "Column: cmngsoon\n",
            "Skewness: 2.782803323082289\n",
            "Column: fandango\n",
            "Skewness: 1.3691199916699204\n",
            "Column: cntwait3\n",
            "Skewness: -0.0278952911327652\n"
          ]
        }
      ],
      "source": [
        "columns = ['addict', 'cmngsoon', 'fandango', 'cntwait3']\n",
        "for col in columns:\n",
        "  print(f\"Column: {col}\")\n",
        "  print(f\"Skewness: {skew(df[col]):}\")"
      ]
    },
    {
      "cell_type": "markdown",
      "metadata": {
        "id": "oSiz_oknE-kQ"
      },
      "source": [
        "HISTOGRAM OF LOG-TRANSFORMED \"ADDICT\" VARIABLE"
      ]
    },
    {
      "cell_type": "code",
      "execution_count": 18,
      "metadata": {
        "colab": {
          "base_uri": "https://localhost:8080/",
          "height": 510
        },
        "id": "ZKn8qJltbRol",
        "outputId": "2e1be042-5cd2-48e8-9413-59eb29660f42"
      },
      "outputs": [
        {
          "data": {
            "text/plain": [
              "Text(0, 0.5, 'Frequency')"
            ]
          },
          "execution_count": 18,
          "metadata": {},
          "output_type": "execute_result"
        },
        {
          "data": {
            "image/png": "[encoded data removed]",
            "text/plain": [
              "<Figure size 640x480 with 1 Axes>"
            ]
          },
          "metadata": {},
          "output_type": "display_data"
        }
      ],
      "source": [
        "# Since the distribution of the \"addict\" variable is right-skewed, we will apply the log transformation.\n",
        "# histogram of log(\"addict\") variable\n",
        "df[\"log_addict\"] = np.log(df[\"addict\"])\n",
        "plt.hist(df[\"log_addict\"],\n",
        "         bins = 10, # split into 10 equal-width bins\n",
        "        edgecolor='black') # draw a black outline around each bar of the histogram\n",
        "plt.title(\"Histogram of Log(Number of Trailer Views at traileraddict.com)\") # specify histogram title\n",
        "plt.xlabel(\"Log(Number of Trailer Views at traileraddict.com)\") # specify x-axis label\n",
        "plt.ylabel(\"Frequency\") # specify y-axis label"
      ]
    },
    {
      "cell_type": "markdown",
      "metadata": {
        "id": "yFomc_paGDPG"
      },
      "source": [
        "HISTOGRAM OF LOG-TRANSFORMED \"CMNGSOON\" VARIABLE"
      ]
    },
    {
      "cell_type": "code",
      "execution_count": 19,
      "metadata": {
        "colab": {
          "base_uri": "https://localhost:8080/",
          "height": 510
        },
        "id": "pPaswA5GbkYT",
        "outputId": "b28ddf7c-4c35-4e1d-9821-a451516147cb"
      },
      "outputs": [
        {
          "data": {
            "text/plain": [
              "Text(0, 0.5, 'Frequency')"
            ]
          },
          "execution_count": 19,
          "metadata": {},
          "output_type": "execute_result"
        },
        {
          "data": {
            "image/png": "[encoded data removed]",
            "text/plain": [
              "<Figure size 640x480 with 1 Axes>"
            ]
          },
          "metadata": {},
          "output_type": "display_data"
        }
      ],
      "source": [
        "# Since the distribution of the \"cmngsoon\" variable is right-skewed, we will apply the log transformation.\n",
        "# histogram of log(\"cmngsoon\") variable\n",
        "df[\"log_cmngsoon\"] = np.log(df[\"cmngsoon\"])\n",
        "plt.hist(df[\"log_cmngsoon\"],\n",
        "         bins = 10, # split into 10 equal-width bins\n",
        "        edgecolor='black') # draw a black outline around each bar of the histogram\n",
        "plt.title(\"Histogram of Log(Number of Message Board Comments at comingsoon.net)\") # specify histogram title\n",
        "plt.xlabel(\"Log(Number of Message Board Comments at comingsoon.net)\") # specify x-axis label\n",
        "plt.ylabel(\"Frequency\") # specify y-axis label"
      ]
    },
    {
      "cell_type": "markdown",
      "metadata": {
        "id": "WCJdxiOdGIfX"
      },
      "source": [
        "HISTOGRAM OF LOG-TRANSFORMED \"FANDANGO\" VARIABLE"
      ]
    },
    {
      "cell_type": "code",
      "execution_count": 20,
      "metadata": {
        "colab": {
          "base_uri": "https://localhost:8080/",
          "height": 510
        },
        "id": "s_InqKQZbmUx",
        "outputId": "ba435993-e83b-42ba-87aa-b62a7e25bef5"
      },
      "outputs": [
        {
          "data": {
            "text/plain": [
              "Text(0, 0.5, 'Frequency')"
            ]
          },
          "execution_count": 20,
          "metadata": {},
          "output_type": "execute_result"
        },
        {
          "data": {
            "image/png": "[encoded data removed]",
            "text/plain": [
              "<Figure size 640x480 with 1 Axes>"
            ]
          },
          "metadata": {},
          "output_type": "display_data"
        }
      ],
      "source": [
        "# Since the distribution of the \"fandango\" variable is right-skewed, we will apply the log transformation.\n",
        "# histogram of log(\"fandango\") variable\n",
        "df[\"log_fandango\"] = np.log(df[\"fandango\"])\n",
        "plt.hist(df[\"log_fandango\"],\n",
        "         bins = 10, # split into 10 equal-width bins\n",
        "        edgecolor='black') # draw a black outline around each bar of the histogram\n",
        "plt.title(\"Histogram of Log(Sum of 'can't wait' and 'don't care' Votes at fandango.com)\") # specify histogram title\n",
        "plt.xlabel(\"Log(Sum of 'can't wait' and 'don't care' Votes at fandango.com)\") # specify x-axis label\n",
        "plt.ylabel(\"Frequency\") # specify y-axis label"
      ]
    },
    {
      "cell_type": "markdown",
      "metadata": {
        "id": "4XaFuPN-GNoa"
      },
      "source": [
        "REMOVE THE ORIGINAL \"ADDICT\", \"CMNGSOON\", AND \"FANDANGO\" VARIABLES"
      ]
    },
    {
      "cell_type": "code",
      "execution_count": 21,
      "metadata": {
        "colab": {
          "base_uri": "https://localhost:8080/",
          "height": 227
        },
        "id": "5-A-WMaiboUv",
        "outputId": "1d16841c-5892-4533-cfac-880d35d3aef1"
      },
      "outputs": [
        {
          "data": {
            "text/html": [
              "<div>\n",
              "<style scoped>\n",
              "    .dataframe tbody tr th:only-of-type {\n",
              "        vertical-align: middle;\n",
              "    }\n",
              "\n",
              "    .dataframe tbody tr th {\n",
              "        vertical-align: top;\n",
              "    }\n",
              "\n",
              "    .dataframe thead th {\n",
              "        text-align: right;\n",
              "    }\n",
              "</style>\n",
              "<table border=\"1\" class=\"dataframe\">\n",
              "  <thead>\n",
              "    <tr style=\"text-align: right;\">\n",
              "      <th></th>\n",
              "      <th>G</th>\n",
              "      <th>PG</th>\n",
              "      <th>PG13</th>\n",
              "      <th>starpowr</th>\n",
              "      <th>sequel</th>\n",
              "      <th>action</th>\n",
              "      <th>comedy</th>\n",
              "      <th>animated</th>\n",
              "      <th>horror</th>\n",
              "      <th>cntwait3</th>\n",
              "      <th>log_box</th>\n",
              "      <th>log_budget</th>\n",
              "      <th>log_addict</th>\n",
              "      <th>log_cmngsoon</th>\n",
              "      <th>log_fandango</th>\n",
              "    </tr>\n",
              "  </thead>\n",
              "  <tbody>\n",
              "    <tr>\n",
              "      <th>0</th>\n",
              "      <td>0</td>\n",
              "      <td>0</td>\n",
              "      <td>0</td>\n",
              "      <td>19.83</td>\n",
              "      <td>0</td>\n",
              "      <td>0</td>\n",
              "      <td>1</td>\n",
              "      <td>0</td>\n",
              "      <td>0</td>\n",
              "      <td>0.49</td>\n",
              "      <td>2.953194</td>\n",
              "      <td>3.332205</td>\n",
              "      <td>8.969605</td>\n",
              "      <td>2.302585</td>\n",
              "      <td>4.969813</td>\n",
              "    </tr>\n",
              "    <tr>\n",
              "      <th>1</th>\n",
              "      <td>0</td>\n",
              "      <td>1</td>\n",
              "      <td>0</td>\n",
              "      <td>32.69</td>\n",
              "      <td>1</td>\n",
              "      <td>0</td>\n",
              "      <td>0</td>\n",
              "      <td>1</td>\n",
              "      <td>0</td>\n",
              "      <td>0.79</td>\n",
              "      <td>4.144825</td>\n",
              "      <td>5.010635</td>\n",
              "      <td>8.654692</td>\n",
              "      <td>4.077537</td>\n",
              "      <td>6.148468</td>\n",
              "    </tr>\n",
              "    <tr>\n",
              "      <th>2</th>\n",
              "      <td>0</td>\n",
              "      <td>0</td>\n",
              "      <td>0</td>\n",
              "      <td>15.69</td>\n",
              "      <td>0</td>\n",
              "      <td>0</td>\n",
              "      <td>1</td>\n",
              "      <td>0</td>\n",
              "      <td>0</td>\n",
              "      <td>0.36</td>\n",
              "      <td>1.686696</td>\n",
              "      <td>3.621671</td>\n",
              "      <td>6.745236</td>\n",
              "      <td>3.178054</td>\n",
              "      <td>5.288267</td>\n",
              "    </tr>\n",
              "    <tr>\n",
              "      <th>3</th>\n",
              "      <td>0</td>\n",
              "      <td>0</td>\n",
              "      <td>1</td>\n",
              "      <td>23.62</td>\n",
              "      <td>1</td>\n",
              "      <td>1</td>\n",
              "      <td>0</td>\n",
              "      <td>0</td>\n",
              "      <td>0</td>\n",
              "      <td>0.76</td>\n",
              "      <td>4.212555</td>\n",
              "      <td>5.298317</td>\n",
              "      <td>9.637306</td>\n",
              "      <td>4.532599</td>\n",
              "      <td>7.483244</td>\n",
              "    </tr>\n",
              "    <tr>\n",
              "      <th>4</th>\n",
              "      <td>0</td>\n",
              "      <td>1</td>\n",
              "      <td>0</td>\n",
              "      <td>19.02</td>\n",
              "      <td>0</td>\n",
              "      <td>0</td>\n",
              "      <td>0</td>\n",
              "      <td>1</td>\n",
              "      <td>0</td>\n",
              "      <td>0.53</td>\n",
              "      <td>3.266642</td>\n",
              "      <td>5.010635</td>\n",
              "      <td>8.428198</td>\n",
              "      <td>3.401197</td>\n",
              "      <td>7.011214</td>\n",
              "    </tr>\n",
              "  </tbody>\n",
              "</table>\n",
              "</div>"
            ],
            "text/plain": [
              "   G  PG  PG13  starpowr  sequel  action  comedy  animated  horror  cntwait3  \\\n",
              "0  0   0     0     19.83       0       0       1         0       0      0.49   \n",
              "1  0   1     0     32.69       1       0       0         1       0      0.79   \n",
              "2  0   0     0     15.69       0       0       1         0       0      0.36   \n",
              "3  0   0     1     23.62       1       1       0         0       0      0.76   \n",
              "4  0   1     0     19.02       0       0       0         1       0      0.53   \n",
              "\n",
              "    log_box  log_budget  log_addict  log_cmngsoon  log_fandango  \n",
              "0  2.953194    3.332205    8.969605      2.302585      4.969813  \n",
              "1  4.144825    5.010635    8.654692      4.077537      6.148468  \n",
              "2  1.686696    3.621671    6.745236      3.178054      5.288267  \n",
              "3  4.212555    5.298317    9.637306      4.532599      7.483244  \n",
              "4  3.266642    5.010635    8.428198      3.401197      7.011214  "
            ]
          },
          "execution_count": 21,
          "metadata": {},
          "output_type": "execute_result"
        }
      ],
      "source": [
        "# remove all the variables that have been applied log-transformation\n",
        "df = df.drop([\"addict\", \"cmngsoon\", \"fandango\"], axis = 1)\n",
        "df.head()"
      ]
    },
    {
      "cell_type": "code",
      "execution_count": 22,
      "metadata": {
        "colab": {
          "base_uri": "https://localhost:8080/"
        },
        "id": "QOHw6JcZ3K8c",
        "outputId": "17b78005-7173-4014-a0be-d3b690ff7e30"
      },
      "outputs": [
        {
          "name": "stdout",
          "output_type": "stream",
          "text": [
            "Column: log_addict\n",
            "Skewness: 0.32296008702183504\n",
            "Column: log_cmngsoon\n",
            "Skewness: 0.23206288718866552\n",
            "Column: log_fandango\n",
            "Skewness: -0.8302038681942592\n"
          ]
        }
      ],
      "source": [
        "from scipy.stats import skew\n",
        "columns_log = ['log_addict', 'log_cmngsoon', 'log_fandango']\n",
        "for col in columns_log:\n",
        "  print(f\"Column: {col}\")\n",
        "  print(f\"Skewness: {skew(df[col]):}\")"
      ]
    },
    {
      "cell_type": "markdown",
      "metadata": {
        "id": "lPXJWuxFGTre"
      },
      "source": [
        "# **QUESTION 5**"
      ]
    },
    {
      "cell_type": "markdown",
      "metadata": {
        "id": "Ma4etCXSGcQz"
      },
      "source": [
        "RUN LINEAR REGRESSION MODEL ON ALL VARIABLES"
      ]
    },
    {
      "cell_type": "code",
      "execution_count": 23,
      "metadata": {
        "colab": {
          "base_uri": "https://localhost:8080/"
        },
        "id": "Ah80qwShbrjc",
        "outputId": "139f3723-2431-4556-9b66-2a921cbd4354"
      },
      "outputs": [
        {
          "name": "stdout",
          "output_type": "stream",
          "text": [
            "Linear Regression of Independent Variables (Including \"buzz\" variables)\n",
            "\n",
            "                            OLS Regression Results                            \n",
            "==============================================================================\n",
            "Dep. Variable:                log_box   R-squared:                       0.624\n",
            "Model:                            OLS   Adj. R-squared:                  0.512\n",
            "Method:                 Least Squares   F-statistic:                     5.576\n",
            "Date:                Sat, 07 Sep 2024   Prob (F-statistic):           3.77e-06\n",
            "Time:                        22:57:39   Log-Likelihood:                -53.492\n",
            "No. Observations:                  62   AIC:                             137.0\n",
            "Df Residuals:                      47   BIC:                             168.9\n",
            "Df Model:                          14                                         \n",
            "Covariance Type:            nonrobust                                         \n",
            "================================================================================\n",
            "                   coef    std err          t      P>|t|      [0.025      0.975]\n",
            "--------------------------------------------------------------------------------\n",
            "const           -2.3197      0.993     -2.337      0.024      -4.317      -0.323\n",
            "G                0.6375      0.600      1.063      0.293      -0.569       1.844\n",
            "PG               0.6054      0.316      1.913      0.062      -0.031       1.242\n",
            "PG13             0.2171      0.220      0.986      0.329      -0.226       0.660\n",
            "starpowr         0.0012      0.013      0.089      0.930      -0.026       0.028\n",
            "sequel           0.4277      0.305      1.402      0.167      -0.186       1.041\n",
            "action          -0.8419      0.301     -2.801      0.007      -1.447      -0.237\n",
            "comedy          -0.0720      0.255     -0.282      0.779      -0.586       0.442\n",
            "animated        -0.8965      0.437     -2.050      0.046      -1.776      -0.017\n",
            "horror           0.3233      0.370      0.874      0.386      -0.421       1.067\n",
            "cntwait3         2.5943      0.927      2.798      0.007       0.729       4.459\n",
            "log_budget       0.2344      0.187      1.256      0.215      -0.141       0.610\n",
            "log_addict       0.2946      0.135      2.175      0.035       0.022       0.567\n",
            "log_cmngsoon     0.0588      0.134      0.439      0.663      -0.211       0.328\n",
            "log_fandango     0.0274      0.117      0.235      0.815      -0.207       0.262\n",
            "==============================================================================\n",
            "Omnibus:                        1.099   Durbin-Watson:                   2.087\n",
            "Prob(Omnibus):                  0.577   Jarque-Bera (JB):                0.502\n",
            "Skew:                          -0.150   Prob(JB):                        0.778\n",
            "Kurtosis:                       3.322   Cond. No.                         304.\n",
            "==============================================================================\n",
            "\n",
            "Notes:\n",
            "[1] Standard Errors assume that the covariance matrix of the errors is correctly specified.\n"
          ]
        }
      ],
      "source": [
        "# define X as a copy of the data frame (after log-transformations)\n",
        "X = df.copy()\n",
        "\n",
        "# define the vector X_all as a list of all independent ariables and y as the target variable\n",
        "X_all = X.drop([\"log_box\"], axis = 1)\n",
        "y = df[\"log_box\"]\n",
        "\n",
        "# add intercept before running least squares regression using statsmodel\n",
        "X_all = sm.add_constant(X_all)\n",
        "\n",
        "# run linear regression and print the summary\n",
        "lr_all = sm.OLS(y, X_all).fit() # fit linear regression model to X and y using ordinary least squares method\n",
        "print('Linear Regression of Independent Variables (Including \"buzz\" variables)')\n",
        "print()\n",
        "print(lr_all.summary())"
      ]
    },
    {
      "cell_type": "markdown",
      "metadata": {
        "id": "Iaq-iHAJGfjh"
      },
      "source": [
        "> $R^2$ AND ADJUSTED $R^2$"
      ]
    },
    {
      "cell_type": "code",
      "execution_count": 24,
      "metadata": {
        "colab": {
          "base_uri": "https://localhost:8080/"
        },
        "id": "YNrEiMv9GjfF",
        "outputId": "eedb42d5-d166-4e0b-cf19-0e530b28762b"
      },
      "outputs": [
        {
          "name": "stdout",
          "output_type": "stream",
          "text": [
            "R^2 = 0.624\n",
            "Adjusted R^2 = 0.512\n"
          ]
        }
      ],
      "source": [
        "print(f\"R^2 = {lr_all.rsquared:.3f}\")\n",
        "print(f\"Adjusted R^2 = {lr_all.rsquared_adj:.3f}\")"
      ]
    },
    {
      "cell_type": "markdown",
      "metadata": {
        "id": "e7Pz7diKGvcG"
      },
      "source": [
        "> SIGNIFICANT VARIABLES: <br>\n",
        "*   Intercept\n",
        "*   PG\n",
        "*   action\n",
        "*   animated\n",
        "*   cntwait3\n",
        "*   log_addict\n",
        "\n",
        "\n",
        "\n"
      ]
    },
    {
      "cell_type": "markdown",
      "metadata": {
        "id": "9QcimimiHEGf"
      },
      "source": [
        "# **QUESTION 6**"
      ]
    },
    {
      "cell_type": "markdown",
      "metadata": {
        "id": "enTLqLFXHIS5"
      },
      "source": [
        "RUN LINEAR REGRESSION MODEL ON SIGNIFICANT VARIABLES"
      ]
    },
    {
      "cell_type": "code",
      "execution_count": 25,
      "metadata": {
        "colab": {
          "base_uri": "https://localhost:8080/"
        },
        "id": "ooRc0kcTbwra",
        "outputId": "fc95eda3-5530-4ab3-bcce-98f2806b8bf4"
      },
      "outputs": [
        {
          "name": "stdout",
          "output_type": "stream",
          "text": [
            "Linear Regression of Significiant Independent Variables (Including \"buzz\" variables)\n",
            "\n",
            "                            OLS Regression Results                            \n",
            "==============================================================================\n",
            "Dep. Variable:                log_box   R-squared:                       0.558\n",
            "Model:                            OLS   Adj. R-squared:                  0.519\n",
            "Method:                 Least Squares   F-statistic:                     14.15\n",
            "Date:                Sat, 07 Sep 2024   Prob (F-statistic):           6.06e-09\n",
            "Time:                        22:57:39   Log-Likelihood:                -58.512\n",
            "No. Observations:                  62   AIC:                             129.0\n",
            "Df Residuals:                      56   BIC:                             141.8\n",
            "Df Model:                           5                                         \n",
            "Covariance Type:            nonrobust                                         \n",
            "==============================================================================\n",
            "                 coef    std err          t      P>|t|      [0.025      0.975]\n",
            "------------------------------------------------------------------------------\n",
            "const         -1.3107      0.751     -1.745      0.087      -2.816       0.194\n",
            "PG             0.3464      0.228      1.519      0.134      -0.110       0.803\n",
            "action        -0.6530      0.225     -2.896      0.005      -1.105      -0.201\n",
            "animated      -0.5455      0.322     -1.693      0.096      -1.191       0.100\n",
            "cntwait3       3.7234      0.702      5.303      0.000       2.317       5.130\n",
            "log_addict     0.2810      0.106      2.662      0.010       0.069       0.492\n",
            "==============================================================================\n",
            "Omnibus:                        1.995   Durbin-Watson:                   1.992\n",
            "Prob(Omnibus):                  0.369   Jarque-Bera (JB):                1.257\n",
            "Skew:                          -0.156   Prob(JB):                        0.533\n",
            "Kurtosis:                       3.624   Cond. No.                         80.9\n",
            "==============================================================================\n",
            "\n",
            "Notes:\n",
            "[1] Standard Errors assume that the covariance matrix of the errors is correctly specified.\n"
          ]
        }
      ],
      "source": [
        "# run linear regression using only significant variables (intercept, PG, action, animated, log_addict, and cntwait3)\n",
        "X_all_significant = df[[\"PG\", \"action\", \"animated\", \"cntwait3\", \"log_addict\"]]\n",
        "\n",
        "# add intercept before running least squares regression using statsmodel\n",
        "X_all_significant = sm.add_constant(X_all_significant)\n",
        "\n",
        "# run linear regression and print the summary\n",
        "lr_all_significant = sm.OLS(y, X_all_significant).fit() # fit linear regression model to X and y using ordinary least squares method\n",
        "print('Linear Regression of Significiant Independent Variables (Including \"buzz\" variables)')\n",
        "print()\n",
        "print(lr_all_significant.summary())"
      ]
    },
    {
      "cell_type": "markdown",
      "metadata": {
        "id": "KY5oYa0JHb-B"
      },
      "source": [
        "> $R^2$ AND ADJUSTED $R^2$"
      ]
    },
    {
      "cell_type": "code",
      "execution_count": 26,
      "metadata": {
        "colab": {
          "base_uri": "https://localhost:8080/"
        },
        "id": "Iy0V4agWHgi2",
        "outputId": "fccb256c-f0ac-4097-b5c0-c81c8ec023b5"
      },
      "outputs": [
        {
          "name": "stdout",
          "output_type": "stream",
          "text": [
            "R^2 = 0.558\n",
            "Adjusted R^2 = 0.519\n"
          ]
        }
      ],
      "source": [
        "print(f\"R^2 = {lr_all_significant.rsquared:.3f}\")\n",
        "print(f\"Adjusted R^2 = {lr_all_significant.rsquared_adj:.3f}\")"
      ]
    },
    {
      "cell_type": "markdown",
      "metadata": {
        "id": "PUg8PQj3HovP"
      },
      "source": [
        "> SIGNIFICANT VARIABLES:<br>\n",
        "All variables, except PG, are still statistically significant at 0.10 level."
      ]
    },
    {
      "cell_type": "markdown",
      "metadata": {
        "id": "ciVqaj2qmHP3"
      },
      "source": [
        "# **QUESTION 7**\n",
        "(Please see report)"
      ]
    },
    {
      "cell_type": "markdown",
      "metadata": {
        "id": "iYQqxKA1H2mk"
      },
      "source": [
        "# **QUESTION 8**"
      ]
    },
    {
      "cell_type": "markdown",
      "metadata": {
        "id": "Cw14evn7JGGh"
      },
      "source": [
        "APPLY PRINCIPAL COMPONENT ANALYSIS TO 4 \"BUZZ\" VARIABLES"
      ]
    },
    {
      "cell_type": "markdown",
      "metadata": {
        "id": "8JwskbM6JMK0"
      },
      "source": [
        "Standardize the transformed \"buzz\" variables"
      ]
    },
    {
      "cell_type": "code",
      "execution_count": 27,
      "metadata": {
        "id": "CBjejlXXcifx"
      },
      "outputs": [],
      "source": [
        "# standardize the transformed \"buzz\" variables\n",
        "X_buzz = df[[\"log_addict\", \"log_cmngsoon\", \"log_fandango\", \"cntwait3\"]]\n",
        "sc = prep.StandardScaler() # define Standard Scaler object\n",
        "sX_buzz = pd.DataFrame(sc.fit_transform(X_buzz), columns = X_buzz.columns)\n",
        "sc.scale_ = np.std(sX_buzz, axis = 0, ddof = 1).to_list() # calculate the standard devidation scale\n",
        "sX_buzz = sX_buzz / sc.scale_ # reflect sample std instead of population std used in fit_transform"
      ]
    },
    {
      "cell_type": "markdown",
      "metadata": {
        "id": "3ZidcS5lJSq2"
      },
      "source": [
        "Apply PCA"
      ]
    },
    {
      "cell_type": "code",
      "execution_count": 28,
      "metadata": {
        "colab": {
          "base_uri": "https://localhost:8080/"
        },
        "id": "mz7PZxbscmvH",
        "outputId": "fd7b124d-93e0-4657-88d6-9f62bf484a7c"
      },
      "outputs": [
        {
          "data": {
            "text/plain": [
              "array([[-5.91215632e-01, -1.12041949e+00,  7.39574630e-01,\n",
              "        -9.94585301e-01],\n",
              "       [ 1.61599216e+00, -2.86131263e-01, -7.63647896e-01,\n",
              "        -1.01050965e+00],\n",
              "       [-1.64437568e+00, -5.58746441e-02, -7.00252306e-01,\n",
              "         4.32819585e-01],\n",
              "       [ 2.80644514e+00,  7.42426566e-01,  2.29836974e-01,\n",
              "        -7.37824941e-01],\n",
              "       [ 6.62449820e-01,  1.01754948e+00,  2.74396331e-01,\n",
              "        -3.50744888e-01],\n",
              "       [ 4.01772146e+00,  1.42241249e-01,  3.63525721e-01,\n",
              "         2.12373105e-01],\n",
              "       [-3.89000437e-01, -3.92696784e-01,  1.23050812e-01,\n",
              "        -4.38680730e-01],\n",
              "       [-4.75868693e-01,  4.37608754e-01, -3.62617771e-01,\n",
              "        -1.68352772e+00],\n",
              "       [ 7.92344628e-01, -3.69453306e-02, -4.83523141e-01,\n",
              "         1.51924646e-02],\n",
              "       [ 1.83982155e+00,  8.61568574e-02, -9.58945421e-01,\n",
              "         9.97398559e-01],\n",
              "       [-2.84255764e+00, -1.87729616e+00,  2.74605936e-02,\n",
              "         4.60077807e-01],\n",
              "       [-3.16427339e+00,  5.47154332e-01,  2.54173256e-03,\n",
              "         2.21762318e-01],\n",
              "       [ 2.33225142e+00, -1.45316350e-01,  1.04374926e-01,\n",
              "        -4.99131117e-02],\n",
              "       [-2.11411458e+00,  1.11414745e+00, -5.01249867e-01,\n",
              "        -7.48076351e-02],\n",
              "       [ 1.54255758e+00,  8.07513850e-02, -5.23372021e-02,\n",
              "        -8.45220429e-01],\n",
              "       [ 2.88404391e-02,  2.39522145e-01, -8.00796367e-01,\n",
              "        -3.26159121e-01],\n",
              "       [ 4.72777509e-01,  4.21453989e-01, -5.00149214e-01,\n",
              "        -1.04796650e+00],\n",
              "       [-3.56494788e-01, -1.69178632e-01, -9.99058594e-01,\n",
              "         1.00236761e-01],\n",
              "       [ 1.19966370e-01,  7.30245556e-02, -4.97860072e-02,\n",
              "        -3.50683684e-01],\n",
              "       [ 1.08256791e+00, -4.54657290e-01,  2.24694315e-01,\n",
              "        -5.60865929e-01],\n",
              "       [ 4.82486675e-02,  2.75030488e-01, -2.04250085e-01,\n",
              "         4.89646113e-01],\n",
              "       [ 1.05813137e+00,  1.04423352e+00,  3.09757472e-01,\n",
              "         4.61599154e-01],\n",
              "       [-1.47481613e+00,  1.29202306e+00,  9.04802257e-01,\n",
              "         4.70478111e-02],\n",
              "       [-1.14176767e+00, -2.50543667e+00,  5.92640298e-03,\n",
              "         5.52656423e-01],\n",
              "       [-1.45338303e+00, -1.29938356e+00, -1.64629286e+00,\n",
              "        -5.70493332e-01],\n",
              "       [ 7.23312795e-02, -1.50147432e+00,  1.61970246e+00,\n",
              "         1.16687798e-01],\n",
              "       [-3.16222540e+00,  5.64962494e-01,  4.41470734e-01,\n",
              "         1.47917408e-01],\n",
              "       [-4.00353899e-01,  1.24012479e+00, -1.76734417e-01,\n",
              "        -6.22142783e-01],\n",
              "       [-1.72621697e+00,  8.28933291e-01, -1.48778744e-01,\n",
              "        -2.88560770e-01],\n",
              "       [-3.26619444e-01,  5.22286045e-01,  4.04438270e-01,\n",
              "         6.08215754e-01],\n",
              "       [-3.59166784e-01, -6.35652918e-01,  7.25648787e-02,\n",
              "         4.89890149e-01],\n",
              "       [ 4.78290250e-01, -3.58752066e-01,  6.48430599e-01,\n",
              "        -6.53932326e-01],\n",
              "       [-2.95723398e+00,  8.42964843e-01,  5.64063742e-01,\n",
              "        -6.46885853e-01],\n",
              "       [ 2.25122626e+00,  3.85786492e-01, -6.67733440e-01,\n",
              "         4.34531850e-01],\n",
              "       [ 3.00297956e-01,  6.19178809e-01, -1.25338616e+00,\n",
              "         2.19218634e-01],\n",
              "       [-1.69536181e-01,  5.57081066e-01,  3.54518455e-01,\n",
              "         2.72862247e-01],\n",
              "       [-2.20445407e-01, -1.54416771e-01, -4.94550510e-01,\n",
              "         2.89094030e-01],\n",
              "       [-5.13394492e-01,  8.17104470e-01, -1.75008100e-01,\n",
              "         2.76056541e-01],\n",
              "       [-1.50270081e+00, -2.16127651e-01, -4.37407234e-02,\n",
              "         2.27621199e-01],\n",
              "       [ 5.26597126e-02,  1.05221650e+00, -3.63017925e-01,\n",
              "        -4.39142644e-01],\n",
              "       [ 4.25855698e-01,  1.26477640e+00,  1.43294878e+00,\n",
              "         4.29359483e-01],\n",
              "       [ 4.26972553e-01, -6.20098388e-01, -3.53239061e-01,\n",
              "         1.11209474e-01],\n",
              "       [-1.21508426e-01,  8.97551290e-01, -7.80644325e-01,\n",
              "         7.11452444e-01],\n",
              "       [-4.28477194e-01,  3.32963897e-01, -4.77351403e-01,\n",
              "         4.01933250e-01],\n",
              "       [-1.78589349e+00,  9.55042201e-01,  7.19788925e-01,\n",
              "        -1.97577175e-01],\n",
              "       [ 2.22074073e+00,  3.64961477e-01,  2.23486859e-01,\n",
              "         1.27019686e+00],\n",
              "       [-1.86916626e+00,  8.82252285e-02,  3.20951095e-01,\n",
              "         3.48293657e-01],\n",
              "       [-1.11659857e+00,  1.80544562e-01, -4.22009264e-01,\n",
              "         8.04815772e-01],\n",
              "       [-9.49685468e-01,  7.64909512e-01, -2.86028229e-01,\n",
              "         1.22117195e+00],\n",
              "       [ 1.09450173e+00, -7.44227893e-01,  5.11436010e-01,\n",
              "         1.39001642e+00],\n",
              "       [ 3.44516770e+00, -7.44109330e-02,  1.00344806e+00,\n",
              "        -7.68346591e-02],\n",
              "       [-8.05346287e-01, -1.45519292e+00,  4.73925392e-01,\n",
              "        -3.77654810e-01],\n",
              "       [-8.67819723e-01, -6.49138423e-01,  1.20097140e+00,\n",
              "         2.01713360e-01],\n",
              "       [ 7.75650301e-01,  2.80084449e-01, -2.12379273e-01,\n",
              "        -1.94062351e-01],\n",
              "       [-1.30662200e+00,  2.10233457e-01,  2.49600534e-01,\n",
              "        -1.43090162e-01],\n",
              "       [ 4.54638229e-01, -1.28918259e-01,  1.34845429e+00,\n",
              "        -1.04418684e-01],\n",
              "       [ 5.51221526e-01, -1.84899198e-01, -7.89658256e-01,\n",
              "        -7.11381273e-01],\n",
              "       [ 1.74589563e+00, -4.97941616e-02, -7.30605871e-02,\n",
              "        -6.25717475e-01],\n",
              "       [-1.44094357e-01, -2.64388270e+00, -1.19006921e+00,\n",
              "         3.40356285e-02],\n",
              "       [ 6.95724016e-01, -1.87418044e+00,  7.69291974e-01,\n",
              "        -1.63061725e-01],\n",
              "       [ 2.97326403e+00, -1.58961049e-01, -4.68080170e-01,\n",
              "         6.92292246e-01],\n",
              "       [-3.58079976e-03, -4.89790842e-01,  7.28941907e-01,\n",
              "        -4.02950589e-01]])"
            ]
          },
          "execution_count": 28,
          "metadata": {},
          "output_type": "execute_result"
        }
      ],
      "source": [
        "pca4 = PCA() # define the PCA object\n",
        "pcs4 = pca4.fit_transform(sX_buzz)\n",
        "pcs4 # standardized data"
      ]
    },
    {
      "cell_type": "markdown",
      "metadata": {
        "id": "foJm2pDQJYJ7"
      },
      "source": [
        "Print eigenvalues of the correlation matrix"
      ]
    },
    {
      "cell_type": "code",
      "execution_count": 29,
      "metadata": {
        "colab": {
          "base_uri": "https://localhost:8080/"
        },
        "id": "FBSroLZUcpXK",
        "outputId": "4e2d3b62-320f-4d8f-df21-1155198d70d3"
      },
      "outputs": [
        {
          "name": "stdout",
          "output_type": "stream",
          "text": [
            "\n",
            "Eigenvalues of Correlation Matrix:\n",
            "[2.41420026 0.77519959 0.45214886 0.3584513 ]\n"
          ]
        }
      ],
      "source": [
        "print(\"\\nEigenvalues of Correlation Matrix:\")\n",
        "egnval4 = pca4.explained_variance_\n",
        "print(egnval4)"
      ]
    },
    {
      "cell_type": "markdown",
      "metadata": {
        "id": "3us-KJWTJdsm"
      },
      "source": [
        "Calculate and print the cumulative sum of explained variance ratios"
      ]
    },
    {
      "cell_type": "code",
      "execution_count": 30,
      "metadata": {
        "colab": {
          "base_uri": "https://localhost:8080/"
        },
        "id": "l-3DUEJ4cs9H",
        "outputId": "6b17b8b0-0f26-431d-9238-a5ceed578241"
      },
      "outputs": [
        {
          "name": "stdout",
          "output_type": "stream",
          "text": [
            "\n",
            "Cumulative Sum of Explained Variance\n",
            "[0.60355006 0.79734996 0.91038718 1.        ]\n"
          ]
        }
      ],
      "source": [
        "# cumulative sum of explained variance ratios\n",
        "expldvarpca4 = pca4.explained_variance_ratio_ # calculate the variance explained by each PC\n",
        "egnvalsum4 = np.cumsum(expldvarpca4) # calculate the cumulative sum of those variances\n",
        "print(\"\\nCumulative Sum of Explained Variance\")\n",
        "print(egnvalsum4)"
      ]
    },
    {
      "cell_type": "markdown",
      "metadata": {
        "id": "vbRnB7CXJmBD"
      },
      "source": [
        "Determine the number of PCs based on:\n",
        "<ol type = \"i\">\n",
        "  <li> Kaiser's rule\n",
        "  <li> Explained variance threshold of 60%\n",
        "  <li> Explained variance threshold of 70%\n",
        "  <li> Explained variance threshold of 80%\n",
        "  <li> Explained variance threshold of 90%"
      ]
    },
    {
      "cell_type": "code",
      "execution_count": 31,
      "metadata": {
        "colab": {
          "base_uri": "https://localhost:8080/",
          "height": 738
        },
        "id": "WIcKW8ho8v1n",
        "outputId": "5f4aa0b9-ab3f-471d-99ec-5d3ab1c86df1"
      },
      "outputs": [
        {
          "data": {
            "image/png": "[encoded data removed]",
            "text/plain": [
              "<Figure size 1000x800 with 1 Axes>"
            ]
          },
          "metadata": {},
          "output_type": "display_data"
        }
      ],
      "source": [
        "# Create a figure with the specified size\n",
        "plt.figure(figsize=(10, 8))\n",
        "plt.xlabel(\"Principal Component\")\n",
        "plt.ylabel(\"Portion of Variance\")\n",
        "plt.xticks(np.arange(1,5))\n",
        "\n",
        "# Plot Proportion of Variance Explained\n",
        "plt.plot(np.arange(1,5), expldvarpca4,label='Proportion of Variance Explained')\n",
        "plt.scatter(np.arange(1,5), expldvarpca4,s=100)\n",
        "\n",
        "# Plot Cumulative Variance Explained\n",
        "plt.plot(np.arange(1,5), egnvalsum4,label='Cumulative Proportion of Variance Explained')\n",
        "plt.scatter(np.arange(1,5), egnvalsum4,s=50)\n",
        "\n",
        "# Add horizontal lines for thresholds\n",
        "plt.axhline(y=0.60, color='r', linestyle='--', label='60% Threshold')\n",
        "plt.axhline(y=0.70, color='y', linestyle='--', label='70% Threshold')\n",
        "plt.axhline(y=0.80, color='b', linestyle='--', label='80% Threshold')\n",
        "plt.axhline(y=0.90, color='m', linestyle='--', label='90% Threshold')\n",
        "\n",
        "plt.grid(True)\n",
        "plt.title('Proportion and Cumulative Variance Explained by PCs of 4 \"Buzz\" Variables')\n",
        "plt.legend()\n",
        "plt.show()"
      ]
    },
    {
      "cell_type": "code",
      "execution_count": 32,
      "metadata": {
        "colab": {
          "base_uri": "https://localhost:8080/"
        },
        "id": "7bFhxWqa8prH",
        "outputId": "383ffbe4-f09b-4911-ff1b-dbea5fbc0468"
      },
      "outputs": [
        {
          "name": "stdout",
          "output_type": "stream",
          "text": [
            "Number of PCs selected based on Kaiser's rule: 1 PC(s)\n",
            "Number of PCs selected for each explained variance threshold:\n",
            "Threshold 60%: 1 PC(s)\n",
            "Threshold 70%: 2 PC(s)\n",
            "Threshold 80%: 3 PC(s)\n",
            "Threshold 90%: 3 PC(s)\n"
          ]
        }
      ],
      "source": [
        "# number of PCs based on Kaiser's rule and explained variance thresholds\n",
        "\n",
        "# Kaiser's rule - select PCs > 1\n",
        "pcs4_kaiser = sum(1 for egnval in egnval4 if egnval > 1) # or np.sum(egnval4 > 1) - egnval4 > 1 creates a boolean array -> sum of all True/1 elements\n",
        "print(f\"Number of PCs selected based on Kaiser's rule: {pcs4_kaiser} PC(s)\")\n",
        "\n",
        "# explained variance thresholds\n",
        "thresholds = [0.6, 0.7, 0.8, 0.9] # define thresholds\n",
        "pcs4_num_PC = {} # define a dictionary to store number of PCs corresponding to each threshold\n",
        "for threshold in thresholds: # loop through each threshold\n",
        "  # find the index where the condition is first met (cumulative sum of explained variance >= threshold)\n",
        "  index = np.argmax(egnvalsum4 >= threshold)\n",
        "\n",
        "  # check if threshold is actually reached\n",
        "  if egnvalsum4[index] >= threshold:\n",
        "    pcs4_num_PC[threshold] = index + 1\n",
        "  else:\n",
        "    pcs4_num_PC[threshold] = len(egnvalsum4)\n",
        "\n",
        "print(\"Number of PCs selected for each explained variance threshold:\")\n",
        "for threshold, num in pcs4_num_PC.items():\n",
        "  print(f\"Threshold {threshold:.0%}: {num} PC(s)\")"
      ]
    },
    {
      "cell_type": "markdown",
      "metadata": {
        "id": "A7M290eiLUL7"
      },
      "source": [
        "# **QUESTION 9**"
      ]
    },
    {
      "cell_type": "markdown",
      "metadata": {
        "id": "rOYJEtbALlM7"
      },
      "source": [
        "RUN LINEAR REGRESSION MODEL ON TRADITIONAL VARIABLES + PRINCIPAL COMPONENTS OF 4 \"BUZZ\" VARIABLES"
      ]
    },
    {
      "cell_type": "markdown",
      "metadata": {
        "id": "UgJPGEnWLoaN"
      },
      "source": [
        "Define vector of predictors (concatenate traditional variables and 4 PCs)"
      ]
    },
    {
      "cell_type": "code",
      "execution_count": 33,
      "metadata": {
        "colab": {
          "base_uri": "https://localhost:8080/",
          "height": 227
        },
        "id": "PvueHq1tcujD",
        "outputId": "53addbbf-8bfb-462b-ff8f-718071c1a94c"
      },
      "outputs": [
        {
          "data": {
            "text/html": [
              "<div>\n",
              "<style scoped>\n",
              "    .dataframe tbody tr th:only-of-type {\n",
              "        vertical-align: middle;\n",
              "    }\n",
              "\n",
              "    .dataframe tbody tr th {\n",
              "        vertical-align: top;\n",
              "    }\n",
              "\n",
              "    .dataframe thead th {\n",
              "        text-align: right;\n",
              "    }\n",
              "</style>\n",
              "<table border=\"1\" class=\"dataframe\">\n",
              "  <thead>\n",
              "    <tr style=\"text-align: right;\">\n",
              "      <th></th>\n",
              "      <th>const</th>\n",
              "      <th>G</th>\n",
              "      <th>PG</th>\n",
              "      <th>PG13</th>\n",
              "      <th>log_budget</th>\n",
              "      <th>starpowr</th>\n",
              "      <th>sequel</th>\n",
              "      <th>action</th>\n",
              "      <th>comedy</th>\n",
              "      <th>animated</th>\n",
              "      <th>horror</th>\n",
              "      <th>PC1</th>\n",
              "      <th>PC2</th>\n",
              "      <th>PC3</th>\n",
              "      <th>PC4</th>\n",
              "    </tr>\n",
              "  </thead>\n",
              "  <tbody>\n",
              "    <tr>\n",
              "      <th>0</th>\n",
              "      <td>1.0</td>\n",
              "      <td>0</td>\n",
              "      <td>0</td>\n",
              "      <td>0</td>\n",
              "      <td>3.332205</td>\n",
              "      <td>19.83</td>\n",
              "      <td>0</td>\n",
              "      <td>0</td>\n",
              "      <td>1</td>\n",
              "      <td>0</td>\n",
              "      <td>0</td>\n",
              "      <td>-0.591216</td>\n",
              "      <td>-1.120419</td>\n",
              "      <td>0.739575</td>\n",
              "      <td>-0.994585</td>\n",
              "    </tr>\n",
              "    <tr>\n",
              "      <th>1</th>\n",
              "      <td>1.0</td>\n",
              "      <td>0</td>\n",
              "      <td>1</td>\n",
              "      <td>0</td>\n",
              "      <td>5.010635</td>\n",
              "      <td>32.69</td>\n",
              "      <td>1</td>\n",
              "      <td>0</td>\n",
              "      <td>0</td>\n",
              "      <td>1</td>\n",
              "      <td>0</td>\n",
              "      <td>1.615992</td>\n",
              "      <td>-0.286131</td>\n",
              "      <td>-0.763648</td>\n",
              "      <td>-1.010510</td>\n",
              "    </tr>\n",
              "    <tr>\n",
              "      <th>2</th>\n",
              "      <td>1.0</td>\n",
              "      <td>0</td>\n",
              "      <td>0</td>\n",
              "      <td>0</td>\n",
              "      <td>3.621671</td>\n",
              "      <td>15.69</td>\n",
              "      <td>0</td>\n",
              "      <td>0</td>\n",
              "      <td>1</td>\n",
              "      <td>0</td>\n",
              "      <td>0</td>\n",
              "      <td>-1.644376</td>\n",
              "      <td>-0.055875</td>\n",
              "      <td>-0.700252</td>\n",
              "      <td>0.432820</td>\n",
              "    </tr>\n",
              "    <tr>\n",
              "      <th>3</th>\n",
              "      <td>1.0</td>\n",
              "      <td>0</td>\n",
              "      <td>0</td>\n",
              "      <td>1</td>\n",
              "      <td>5.298317</td>\n",
              "      <td>23.62</td>\n",
              "      <td>1</td>\n",
              "      <td>1</td>\n",
              "      <td>0</td>\n",
              "      <td>0</td>\n",
              "      <td>0</td>\n",
              "      <td>2.806445</td>\n",
              "      <td>0.742427</td>\n",
              "      <td>0.229837</td>\n",
              "      <td>-0.737825</td>\n",
              "    </tr>\n",
              "    <tr>\n",
              "      <th>4</th>\n",
              "      <td>1.0</td>\n",
              "      <td>0</td>\n",
              "      <td>1</td>\n",
              "      <td>0</td>\n",
              "      <td>5.010635</td>\n",
              "      <td>19.02</td>\n",
              "      <td>0</td>\n",
              "      <td>0</td>\n",
              "      <td>0</td>\n",
              "      <td>1</td>\n",
              "      <td>0</td>\n",
              "      <td>0.662450</td>\n",
              "      <td>1.017549</td>\n",
              "      <td>0.274396</td>\n",
              "      <td>-0.350745</td>\n",
              "    </tr>\n",
              "  </tbody>\n",
              "</table>\n",
              "</div>"
            ],
            "text/plain": [
              "   const  G  PG  PG13  log_budget  starpowr  sequel  action  comedy  animated  \\\n",
              "0    1.0  0   0     0    3.332205     19.83       0       0       1         0   \n",
              "1    1.0  0   1     0    5.010635     32.69       1       0       0         1   \n",
              "2    1.0  0   0     0    3.621671     15.69       0       0       1         0   \n",
              "3    1.0  0   0     1    5.298317     23.62       1       1       0         0   \n",
              "4    1.0  0   1     0    5.010635     19.02       0       0       0         1   \n",
              "\n",
              "   horror       PC1       PC2       PC3       PC4  \n",
              "0       0 -0.591216 -1.120419  0.739575 -0.994585  \n",
              "1       0  1.615992 -0.286131 -0.763648 -1.010510  \n",
              "2       0 -1.644376 -0.055875 -0.700252  0.432820  \n",
              "3       0  2.806445  0.742427  0.229837 -0.737825  \n",
              "4       0  0.662450  1.017549  0.274396 -0.350745  "
            ]
          },
          "execution_count": 33,
          "metadata": {},
          "output_type": "execute_result"
        }
      ],
      "source": [
        "# make a copy of X_traditional\n",
        "X_tradPCA4 = X_traditional.copy()\n",
        "\n",
        "# convert pcs4 from nparray to pd dataframe\n",
        "pcs4df = pd.DataFrame(pcs4, columns = [\"PC1\", \"PC2\", \"PC3\", \"PC4\"])\n",
        "\n",
        "# define the vector X_tradPCA4 as a list of traditional variables and 4 PCs\n",
        "X_tradPCA4 = pd.concat((X_tradPCA4, pcs4df), axis = 1)\n",
        "X_tradPCA4.head()"
      ]
    },
    {
      "cell_type": "markdown",
      "metadata": {
        "id": "lPc0XrudLyFL"
      },
      "source": [
        "Run linear regression model"
      ]
    },
    {
      "cell_type": "code",
      "execution_count": 34,
      "metadata": {
        "colab": {
          "base_uri": "https://localhost:8080/"
        },
        "id": "c88nmYSvcwfL",
        "outputId": "ae8d8197-be96-4878-8292-c58919ca1ae8"
      },
      "outputs": [
        {
          "name": "stdout",
          "output_type": "stream",
          "text": [
            "Linear Regression of Significiant Independent Variables (Excluding \"buzz\" variables) + PCs of 4 \"Buzz\" Variables\n",
            "\n",
            "                            OLS Regression Results                            \n",
            "==============================================================================\n",
            "Dep. Variable:                log_box   R-squared:                       0.624\n",
            "Model:                            OLS   Adj. R-squared:                  0.512\n",
            "Method:                 Least Squares   F-statistic:                     5.576\n",
            "Date:                Sat, 07 Sep 2024   Prob (F-statistic):           3.77e-06\n",
            "Time:                        22:57:40   Log-Likelihood:                -53.492\n",
            "No. Observations:                  62   AIC:                             137.0\n",
            "Df Residuals:                      47   BIC:                             168.9\n",
            "Df Model:                          14                                         \n",
            "Covariance Type:            nonrobust                                         \n",
            "==============================================================================\n",
            "                 coef    std err          t      P>|t|      [0.025      0.975]\n",
            "------------------------------------------------------------------------------\n",
            "const          1.7137      0.675      2.537      0.015       0.355       3.073\n",
            "G              0.6375      0.600      1.063      0.293      -0.569       1.844\n",
            "PG             0.6054      0.316      1.913      0.062      -0.031       1.242\n",
            "PG13           0.2171      0.220      0.986      0.329      -0.226       0.660\n",
            "log_budget     0.2344      0.187      1.256      0.215      -0.141       0.610\n",
            "starpowr       0.0012      0.013      0.089      0.930      -0.026       0.028\n",
            "sequel         0.4277      0.305      1.402      0.167      -0.186       1.041\n",
            "action        -0.8419      0.301     -2.801      0.007      -1.447      -0.237\n",
            "comedy        -0.0720      0.255     -0.282      0.779      -0.586       0.442\n",
            "animated      -0.8965      0.437     -2.050      0.046      -1.776      -0.017\n",
            "horror         0.3233      0.370      0.874      0.386      -0.421       1.067\n",
            "PC1            0.4183      0.079      5.279      0.000       0.259       0.578\n",
            "PC2           -0.1424      0.106     -1.341      0.186      -0.356       0.071\n",
            "PC3           -0.0091      0.159     -0.057      0.955      -0.329       0.311\n",
            "PC4           -0.2474      0.180     -1.376      0.175      -0.609       0.114\n",
            "==============================================================================\n",
            "Omnibus:                        1.099   Durbin-Watson:                   2.087\n",
            "Prob(Omnibus):                  0.577   Jarque-Bera (JB):                0.502\n",
            "Skew:                          -0.150   Prob(JB):                        0.778\n",
            "Kurtosis:                       3.322   Cond. No.                         179.\n",
            "==============================================================================\n",
            "\n",
            "Notes:\n",
            "[1] Standard Errors assume that the covariance matrix of the errors is correctly specified.\n"
          ]
        }
      ],
      "source": [
        "# add intercept before running least squares regression using statsmodel\n",
        "X_tradPCA4 = sm.add_constant(X_tradPCA4)\n",
        "\n",
        "# run linear regression and print the summary\n",
        "lr_tradPCA4 = sm.OLS(y, X_tradPCA4).fit() # fit linear regression model to X and y using ordinary least squares method\n",
        "print('Linear Regression of Significiant Independent Variables (Excluding \"buzz\" variables) + PCs of 4 \"Buzz\" Variables')\n",
        "print()\n",
        "print(lr_tradPCA4.summary())"
      ]
    },
    {
      "cell_type": "markdown",
      "metadata": {
        "id": "Vw81YbC-MjZx"
      },
      "source": [
        "> $R^2$ AND ADJUSTED $R^2$"
      ]
    },
    {
      "cell_type": "code",
      "execution_count": 35,
      "metadata": {
        "colab": {
          "base_uri": "https://localhost:8080/"
        },
        "id": "wc18d2TFMsYw",
        "outputId": "90a94ca8-3c7a-4141-e7c8-1a3f0f28743e"
      },
      "outputs": [
        {
          "name": "stdout",
          "output_type": "stream",
          "text": [
            "R^2 = 0.624\n",
            "Adjusted R^2 = 0.512\n"
          ]
        }
      ],
      "source": [
        "print(f\"R^2 = {lr_tradPCA4.rsquared:.3f}\")\n",
        "print(f\"Adjusted R^2 = {lr_tradPCA4.rsquared_adj:.3f}\")"
      ]
    },
    {
      "cell_type": "markdown",
      "metadata": {
        "id": "McbEpIjoM1wX"
      },
      "source": [
        "> SIGNIFICANT VARIABLES:<br>\n",
        "*   Intercept\n",
        "*   PG\n",
        "*   action\n",
        "*   animated\n",
        "*   PC1\n",
        "\n"
      ]
    },
    {
      "cell_type": "markdown",
      "metadata": {
        "id": "40i5H_-NNWkl"
      },
      "source": [
        "> **Observation:**\n",
        "*   Of all 4 principal components, only the first principal component is statistically significant.\n",
        "*   This model uses the PCs of the 4 \"buzz\" variables while the others are solely using the traditional variables.\n",
        "*   I would still keep the model in Question 6 because its adjusted R2 is still higher than this model’s adjusted $R^2$ (0.519 vs 0.512), and the model in Question 6 has fewer predictors, which makes it easier to interpret. Also, incorporating the principal components may reduce interpretability because principal components are linear combinations of the original variables. Given that there is no improvement in predictive power, the model in Question 6 is preferred.\n"
      ]
    },
    {
      "cell_type": "markdown",
      "metadata": {
        "id": "6G6-a72kNGYC"
      },
      "source": [
        "# **QUESTION 10**"
      ]
    },
    {
      "cell_type": "markdown",
      "metadata": {
        "id": "-u34W2ukNL6Z"
      },
      "source": [
        "RUN LINEAR REGRESSION MODEL ON TRADITIONAL VARIABLES + PC1 OF 4 \"BUZZ\" VARIABLES (based on Kaiser's rule and explained variance threshold of 60%)"
      ]
    },
    {
      "cell_type": "code",
      "execution_count": 36,
      "metadata": {
        "colab": {
          "base_uri": "https://localhost:8080/"
        },
        "id": "CpVidtdocyB9",
        "outputId": "b84ba791-ecb0-4cca-f62c-0504c6d8b5f0"
      },
      "outputs": [
        {
          "name": "stdout",
          "output_type": "stream",
          "text": [
            "Linear Regression Using 1 PC based on Kaiser's Rule & Explained Variance Using 60% Threshold\n",
            "\n",
            "                            OLS Regression Results                            \n",
            "==============================================================================\n",
            "Dep. Variable:                log_box   R-squared:                       0.589\n",
            "Model:                            OLS   Adj. R-squared:                  0.498\n",
            "Method:                 Least Squares   F-statistic:                     6.510\n",
            "Date:                Sat, 07 Sep 2024   Prob (F-statistic):           1.39e-06\n",
            "Time:                        22:57:40   Log-Likelihood:                -56.278\n",
            "No. Observations:                  62   AIC:                             136.6\n",
            "Df Residuals:                      50   BIC:                             162.1\n",
            "Df Model:                          11                                         \n",
            "Covariance Type:            nonrobust                                         \n",
            "==============================================================================\n",
            "                 coef    std err          t      P>|t|      [0.025      0.975]\n",
            "------------------------------------------------------------------------------\n",
            "const          1.5847      0.643      2.466      0.017       0.294       2.876\n",
            "G              0.3844      0.553      0.695      0.490      -0.727       1.495\n",
            "PG             0.5336      0.300      1.780      0.081      -0.069       1.136\n",
            "PG13           0.2150      0.219      0.983      0.331      -0.225       0.655\n",
            "log_budget     0.2609      0.185      1.408      0.165      -0.111       0.633\n",
            "starpowr       0.0043      0.013      0.337      0.738      -0.021       0.030\n",
            "sequel         0.2751      0.273      1.007      0.319      -0.274       0.824\n",
            "action        -0.8693      0.293     -2.964      0.005      -1.458      -0.280\n",
            "comedy        -0.0162      0.256     -0.063      0.950      -0.531       0.498\n",
            "animated      -0.8332      0.430     -1.937      0.058      -1.697       0.031\n",
            "horror         0.3746      0.371      1.009      0.318      -0.371       1.120\n",
            "PC1            0.4291      0.078      5.473      0.000       0.272       0.587\n",
            "==============================================================================\n",
            "Omnibus:                        1.622   Durbin-Watson:                   2.131\n",
            "Prob(Omnibus):                  0.444   Jarque-Bera (JB):                0.994\n",
            "Skew:                          -0.282   Prob(JB):                        0.608\n",
            "Kurtosis:                       3.260   Cond. No.                         171.\n",
            "==============================================================================\n",
            "\n",
            "Notes:\n",
            "[1] Standard Errors assume that the covariance matrix of the errors is correctly specified.\n"
          ]
        }
      ],
      "source": [
        "# run linear regression with traditional variables + PC1 only (based on Kaiser's rule and \"explained variance\" threshold of 60%)\n",
        "\n",
        "# make a copy of the X_tradPCA4 and drop the unnecessary PCs\n",
        "X_tradPCA1 = X_tradPCA4.copy()\n",
        "X_tradPCA1 = X_tradPCA1.drop([\"PC2\", \"PC3\", \"PC4\"], axis = 1)\n",
        "\n",
        "# add intercept before running least squares regression using statsmodel\n",
        "X_tradPCA1 = sm.add_constant(X_tradPCA1)\n",
        "\n",
        "# run linear regression and print the summary\n",
        "lr_PCA1 = sm.OLS(y, X_tradPCA1).fit()\n",
        "print(\"Linear Regression Using 1 PC based on Kaiser's Rule & Explained Variance Using 60% Threshold\")\n",
        "print()\n",
        "print(lr_PCA1.summary())"
      ]
    },
    {
      "cell_type": "markdown",
      "metadata": {
        "id": "5KtXhYxWN-Ij"
      },
      "source": [
        "RUN LINEAR REGRESSION MODEL ON TRADITIONAL VARIABLES + PC1 & PC2 OF 4 \"BUZZ\" VARIABLES (based on explained variance threshold of 70%)"
      ]
    },
    {
      "cell_type": "code",
      "execution_count": 37,
      "metadata": {
        "colab": {
          "base_uri": "https://localhost:8080/"
        },
        "id": "_hH-tC74c1Qr",
        "outputId": "40eae8c9-6f7c-4715-db21-83d48cc447f3"
      },
      "outputs": [
        {
          "name": "stdout",
          "output_type": "stream",
          "text": [
            "Linear Regression Using 2 PCs based on Explained Variance using 70% Threshold\n",
            "\n",
            "                            OLS Regression Results                            \n",
            "==============================================================================\n",
            "Dep. Variable:                log_box   R-squared:                       0.609\n",
            "Model:                            OLS   Adj. R-squared:                  0.513\n",
            "Method:                 Least Squares   F-statistic:                     6.357\n",
            "Date:                Sat, 07 Sep 2024   Prob (F-statistic):           1.27e-06\n",
            "Time:                        22:57:40   Log-Likelihood:                -54.729\n",
            "No. Observations:                  62   AIC:                             135.5\n",
            "Df Residuals:                      49   BIC:                             163.1\n",
            "Df Model:                          12                                         \n",
            "Covariance Type:            nonrobust                                         \n",
            "==============================================================================\n",
            "                 coef    std err          t      P>|t|      [0.025      0.975]\n",
            "------------------------------------------------------------------------------\n",
            "const          1.4410      0.640      2.253      0.029       0.155       2.726\n",
            "G              0.4933      0.549      0.898      0.374      -0.611       1.597\n",
            "PG             0.5807      0.297      1.956      0.056      -0.016       1.177\n",
            "PG13           0.2511      0.217      1.158      0.252      -0.185       0.687\n",
            "log_budget     0.2830      0.183      1.546      0.129      -0.085       0.651\n",
            "starpowr       0.0063      0.013      0.495      0.623      -0.019       0.032\n",
            "sequel         0.3543      0.274      1.295      0.202      -0.196       0.904\n",
            "action        -0.9138      0.290     -3.147      0.003      -1.497      -0.330\n",
            "comedy        -0.0224      0.252     -0.089      0.929      -0.530       0.485\n",
            "animated      -0.8304      0.424     -1.959      0.056      -1.682       0.021\n",
            "horror         0.3254      0.367      0.887      0.379      -0.412       1.063\n",
            "PC1            0.4219      0.077      5.454      0.000       0.266       0.577\n",
            "PC2           -0.1637      0.103     -1.585      0.119      -0.371       0.044\n",
            "==============================================================================\n",
            "Omnibus:                        1.798   Durbin-Watson:                   2.070\n",
            "Prob(Omnibus):                  0.407   Jarque-Bera (JB):                1.232\n",
            "Skew:                          -0.334   Prob(JB):                        0.540\n",
            "Kurtosis:                       3.173   Cond. No.                         172.\n",
            "==============================================================================\n",
            "\n",
            "Notes:\n",
            "[1] Standard Errors assume that the covariance matrix of the errors is correctly specified.\n"
          ]
        }
      ],
      "source": [
        "# run linear regression with traditional variables + PC1 and PC2 (based on \"explained variance\" threshold of 70%)\n",
        "\n",
        "# make a copy of the X_tradPCA4 and drop the unnecessary PCs\n",
        "X_tradPCA2 = X_tradPCA4.copy()\n",
        "X_tradPCA2 = X_tradPCA2.drop([\"PC3\", \"PC4\"], axis = 1)\n",
        "\n",
        "# add intercept before running least squares regression using statsmodel\n",
        "X_tradPCA2 = sm.add_constant(X_tradPCA2)\n",
        "\n",
        "# run linear regression and print the summary\n",
        "lr_PCA2 = sm.OLS(y, X_tradPCA2).fit()\n",
        "print(\"Linear Regression Using 2 PCs based on Explained Variance using 70% Threshold\")\n",
        "print()\n",
        "print(lr_PCA2.summary())"
      ]
    },
    {
      "cell_type": "markdown",
      "metadata": {
        "id": "pn3KQMHnODyS"
      },
      "source": [
        "RUN LINEAR REGRESSION MODEL ON TRADITIONAL VARIABLES + PC1, PC2, & PC3 OF 4 \"BUZZ\" VARIABLES (based on explained variance threshold of 80% & 90%)"
      ]
    },
    {
      "cell_type": "code",
      "execution_count": 38,
      "metadata": {
        "colab": {
          "base_uri": "https://localhost:8080/"
        },
        "id": "85o-yDEVc3Ls",
        "outputId": "5d936888-a578-4074-f2fb-438870097883"
      },
      "outputs": [
        {
          "name": "stdout",
          "output_type": "stream",
          "text": [
            "Linear Regression Using 3 PCs based on Explained Variance using 80/90% Threshold\n",
            "\n",
            "                            OLS Regression Results                            \n",
            "==============================================================================\n",
            "Dep. Variable:                log_box   R-squared:                       0.609\n",
            "Model:                            OLS   Adj. R-squared:                  0.503\n",
            "Method:                 Least Squares   F-statistic:                     5.752\n",
            "Date:                Sat, 07 Sep 2024   Prob (F-statistic):           3.32e-06\n",
            "Time:                        22:57:40   Log-Likelihood:                -54.715\n",
            "No. Observations:                  62   AIC:                             137.4\n",
            "Df Residuals:                      48   BIC:                             167.2\n",
            "Df Model:                          13                                         \n",
            "Covariance Type:            nonrobust                                         \n",
            "==============================================================================\n",
            "                 coef    std err          t      P>|t|      [0.025      0.975]\n",
            "------------------------------------------------------------------------------\n",
            "const          1.4565      0.655      2.223      0.031       0.139       2.774\n",
            "G              0.4635      0.592      0.783      0.437      -0.726       1.653\n",
            "PG             0.5654      0.318      1.778      0.082      -0.074       1.205\n",
            "PG13           0.2467      0.221      1.115      0.270      -0.198       0.691\n",
            "log_budget     0.2831      0.185      1.531      0.132      -0.089       0.655\n",
            "starpowr       0.0059      0.013      0.448      0.656      -0.021       0.032\n",
            "sequel         0.3372      0.301      1.121      0.268      -0.267       0.942\n",
            "action        -0.9212      0.298     -3.094      0.003      -1.520      -0.323\n",
            "comedy        -0.0214      0.255     -0.084      0.933      -0.534       0.491\n",
            "animated      -0.8174      0.437     -1.868      0.068      -1.697       0.062\n",
            "horror         0.3317      0.373      0.889      0.379      -0.419       1.082\n",
            "PC1            0.4243      0.080      5.313      0.000       0.264       0.585\n",
            "PC2           -0.1607      0.106     -1.512      0.137      -0.375       0.053\n",
            "PC3           -0.0232      0.160     -0.145      0.885      -0.345       0.299\n",
            "==============================================================================\n",
            "Omnibus:                        1.768   Durbin-Watson:                   2.068\n",
            "Prob(Omnibus):                  0.413   Jarque-Bera (JB):                1.219\n",
            "Skew:                          -0.334   Prob(JB):                        0.544\n",
            "Kurtosis:                       3.158   Cond. No.                         173.\n",
            "==============================================================================\n",
            "\n",
            "Notes:\n",
            "[1] Standard Errors assume that the covariance matrix of the errors is correctly specified.\n"
          ]
        }
      ],
      "source": [
        "# run linear regression with traditional variables + PC1, PC2, and PC3 (based on \"explained variance\" threshold of 80% or 90%)\n",
        "\n",
        "# make a copy of the X_tradPCA4 and drop the unnecessary PCs\n",
        "X_tradPCA3 = X_tradPCA4.copy()\n",
        "X_tradPCA3 = X_tradPCA3.drop([\"PC4\"], axis = 1)\n",
        "\n",
        "# add intercept before running least squares regression using statsmodel\n",
        "X_tradPCA3 = sm.add_constant(X_tradPCA3)\n",
        "\n",
        "# run linear regression and print the summary\n",
        "lr_PCA3 = sm.OLS(y, X_tradPCA3).fit()\n",
        "print(\"Linear Regression Using 3 PCs based on Explained Variance using 80/90% Threshold\")\n",
        "print()\n",
        "print(lr_PCA3.summary())"
      ]
    },
    {
      "cell_type": "markdown",
      "metadata": {
        "id": "OWRgIwLPOPBP"
      },
      "source": [
        "> **Observation:**\n",
        "*   It is apparent that the model using all 4 PCs yields the same results as the model in Q5. This is because using all 4 PCs altogether only rearranges the coefficient estimates on the 4 original “buzz” variables but does not change the model prediction and complexity.\n",
        "*   I recommend choosing the regression model using the traditional variables, PC1, and PC2 because it has the highest adjusted R2 and lowest AIC and BIC. Although the adjusted $R^2$ of the model using all 4 PCs is extremely close, it has more predictors and therefore is harder to interpret and may overfit. PC1 and PC2 together also explain most of the variability of the \"buzz\" variables (~80%).\n",
        "\n"
      ]
    },
    {
      "cell_type": "markdown",
      "metadata": {
        "id": "SWjwYnSuRPmh"
      },
      "source": [
        "# **QUESTION 11**"
      ]
    },
    {
      "cell_type": "markdown",
      "metadata": {
        "id": "n0aQgbS6RYih"
      },
      "source": [
        "APPLY PRINCIPAL COMPONENT ANALYSIS TO 4 \"BUZZ\" VARIABLES + \"BUDGET\" + \"STARPOWR\"\n",
        "\n",
        "\n"
      ]
    },
    {
      "cell_type": "markdown",
      "metadata": {
        "id": "pIrmOXqSRwK_"
      },
      "source": [
        "Standardize the 4 \"buzz\" variables + \"budget\" + \"starpowr\"\n",
        "\n"
      ]
    },
    {
      "cell_type": "code",
      "execution_count": 39,
      "metadata": {
        "id": "GZR3gXOKc5YV"
      },
      "outputs": [],
      "source": [
        "# standardize the transformed \"buzz\" variables and other continuous variables\n",
        "X_buzzcont = df[[\"log_addict\", \"log_cmngsoon\", \"log_fandango\", \"cntwait3\", \"log_budget\", \"starpowr\"]]\n",
        "sc = prep.StandardScaler() # define Standard Scaler object\n",
        "sX_buzzcont = pd.DataFrame(sc.fit_transform(X_buzzcont), columns = X_buzzcont.columns)\n",
        "sc.scale_ = np.std(sX_buzzcont, axis = 0, ddof = 1).to_list() # calculate the standard deviation scale\n",
        "sX_buzzcont = sX_buzzcont / sc.scale_ # reflect sample std instead of population std used in fit_transform"
      ]
    },
    {
      "cell_type": "markdown",
      "metadata": {
        "id": "cA97qeL5SBoH"
      },
      "source": [
        "Apply PCA"
      ]
    },
    {
      "cell_type": "code",
      "execution_count": 40,
      "metadata": {
        "colab": {
          "base_uri": "https://localhost:8080/"
        },
        "id": "C9qaUqlPc7xP",
        "outputId": "63eaa91d-4e00-4bfa-b42c-7cba94fc89fc"
      },
      "outputs": [
        {
          "data": {
            "text/plain": [
              "array([[-7.27799512e-01, -3.81623052e-02, -1.20415831e+00,\n",
              "         1.12346596e+00, -1.17356800e-01,  4.48392488e-01],\n",
              "       [ 2.63794560e+00,  1.37023291e+00, -1.07723945e+00,\n",
              "        -2.51878968e-01,  1.34171893e-02,  3.66719907e-01],\n",
              "       [-1.54293240e+00,  4.69245123e-01, -7.65199118e-02,\n",
              "        -8.57879059e-01,  2.78869526e-01, -2.24304281e-01],\n",
              "       [ 3.60513005e+00,  4.58781932e-01,  3.88755197e-01,\n",
              "         3.45630796e-01,  6.90653747e-01,  4.45240442e-01],\n",
              "       [ 1.45341918e+00,  8.92620953e-01,  7.77003175e-01,\n",
              "         1.50703093e-01,  1.12730412e+00,  2.18117375e-01],\n",
              "       [ 3.30869856e+00, -2.10027953e+00,  5.58947293e-01,\n",
              "         3.37117508e-01, -8.04135626e-01,  1.43217599e-01],\n",
              "       [ 4.44569433e-01,  1.04054439e+00, -6.79635285e-01,\n",
              "         1.35828394e-01,  1.18629559e+00, -5.51560636e-02],\n",
              "       [ 5.42712742e-01,  2.31344817e+00, -5.80106419e-01,\n",
              "         3.53553190e-01, -1.96061489e-01,  9.34399818e-01],\n",
              "       [ 3.64463594e-01, -1.18658235e+00,  2.63960608e-01,\n",
              "        -6.50644904e-01,  3.83985035e-01,  6.02361610e-01],\n",
              "       [ 1.16416304e+00, -1.82811062e+00,  6.03043702e-01,\n",
              "        -1.34556065e+00, -1.32659224e-01, -4.88313394e-02],\n",
              "       [-3.15359628e+00,  3.49277520e-01, -1.84219392e+00,\n",
              "         2.08688711e-01, -8.69221834e-01, -9.97827433e-01],\n",
              "       [-2.71521514e+00,  1.52402563e+00,  3.74617102e-01,\n",
              "        -1.70152953e-01,  6.30809198e-01, -3.16681201e-01],\n",
              "       [ 2.65542654e+00, -2.00140531e-03, -3.22861461e-01,\n",
              "         2.58058354e-01, -3.40045216e-01, -3.16838655e-01],\n",
              "       [-1.77981378e+00,  1.33856859e+00,  8.12044840e-01,\n",
              "        -5.24863494e-01,  1.58745707e-01,  2.53735129e-01],\n",
              "       [ 1.71635025e+00,  1.41764805e-01, -2.38500987e-01,\n",
              "         3.21607869e-01, -3.95976944e-01,  6.13830523e-01],\n",
              "       [ 6.63463932e-01,  1.42235179e+00, -3.79244383e-01,\n",
              "        -4.56000420e-01, -5.50716460e-01, -2.14694659e-02],\n",
              "       [ 1.00756705e+00,  1.02242944e+00, -1.50219642e-01,\n",
              "        -9.67565214e-02, -6.21774148e-02,  8.25734885e-01],\n",
              "       [-3.19909373e-01,  2.30216669e-01, -3.28491487e-01,\n",
              "        -9.23108375e-01, -2.63763905e-01,  8.31475128e-02],\n",
              "       [ 7.98576789e-01,  1.17508034e+00, -3.59223570e-01,\n",
              "         1.49175670e-01,  8.47725013e-02, -1.41647986e-01],\n",
              "       [ 2.01839705e+00,  1.07055753e+00, -9.05228952e-01,\n",
              "         4.46710561e-01,  5.50180425e-01, -2.16510693e-01],\n",
              "       [ 8.01575735e-01,  1.17005230e+00, -6.91451127e-03,\n",
              "        -3.01617587e-01,  2.48117937e-01, -8.33025908e-01],\n",
              "       [ 1.47237153e+00,  6.07026820e-01,  9.12072338e-01,\n",
              "         1.97283160e-01, -1.91862286e-01, -6.16200012e-01],\n",
              "       [-1.50728586e+00,  9.29808803e-01,  1.18448999e+00,\n",
              "         9.48007023e-01, -6.90883870e-01, -2.23594073e-01],\n",
              "       [-1.55693361e+00, -1.23636816e+00, -1.96401108e+00,\n",
              "        -2.41545413e-01,  8.20870840e-01, -6.28778885e-01],\n",
              "       [-1.30605291e+00,  7.55884313e-01, -1.78284021e+00,\n",
              "        -1.18395301e+00, -4.92675134e-01,  4.52156952e-01],\n",
              "       [-6.72099670e-01, -1.31875248e+00, -9.89169106e-01,\n",
              "         1.66686126e+00, -5.15797001e-01, -5.98790233e-01],\n",
              "       [-4.35013050e+00, -7.34646553e-01,  1.03761402e+00,\n",
              "         3.22330002e-01, -6.76403147e-01,  5.14866741e-01],\n",
              "       [-3.35791060e-01,  7.04962257e-01,  9.28227947e-01,\n",
              "         3.77971555e-02, -4.13987946e-01,  7.76856186e-01],\n",
              "       [-1.52702561e+00,  9.76063039e-01,  6.06571689e-01,\n",
              "        -1.16126592e-01,  1.52673975e-01,  3.75368263e-01],\n",
              "       [-1.25249445e+00, -1.42216915e+00,  1.13424930e+00,\n",
              "         6.21461064e-02, -2.04976033e-01,  9.04837681e-02],\n",
              "       [-1.03451455e+00, -1.18758089e+00, -1.77898724e-01,\n",
              "        -1.14082283e-01, -1.25212585e-01, -1.60236212e-01],\n",
              "       [-8.02295297e-02, -1.09844952e+00, -9.71881654e-02,\n",
              "         7.54510865e-01,  3.41072160e-02,  7.58189127e-01],\n",
              "       [-2.35027423e+00,  1.84619299e+00,  4.87024102e-01,\n",
              "         6.11150161e-01,  7.83111126e-01,  3.05394601e-01],\n",
              "       [ 1.74250311e+00, -1.32019262e+00,  6.26711657e-01,\n",
              "        -7.69633092e-01, -5.91760700e-01,  2.02706802e-01],\n",
              "       [ 8.81250031e-01,  1.28818804e+00,  7.13873710e-02,\n",
              "        -1.07081873e+00, -6.92325489e-01, -2.71913149e-01],\n",
              "       [-5.88569935e-02,  5.33406411e-01,  4.63350070e-01,\n",
              "         3.65604407e-01, -4.95923983e-01, -4.61880489e-01],\n",
              "       [-3.32597564e-01, -2.36259345e-01, -6.75340025e-02,\n",
              "        -5.97011366e-01,  6.92848457e-02, -4.16445250e-02],\n",
              "       [-1.13101776e+00, -5.88986121e-01,  1.04796642e+00,\n",
              "        -2.87725248e-01, -5.44926727e-01,  3.25138220e-01],\n",
              "       [-1.42112718e+00,  3.72998514e-01, -1.82208725e-01,\n",
              "        -1.62106798e-01,  3.53900424e-01, -2.52953855e-01],\n",
              "       [ 6.14743441e-01,  1.84197670e+00,  2.86135076e-01,\n",
              "         1.50515549e-01, -1.42369448e+00, -4.66530991e-02],\n",
              "       [ 1.43902818e-01, -5.35374957e-01,  1.67695645e+00,\n",
              "         1.07656472e+00,  1.95395374e-01, -2.64757868e-01],\n",
              "       [ 3.55301377e-01, -2.24635376e-01, -6.38298467e-01,\n",
              "        -2.62530782e-01, -3.39260224e-01, -1.75503086e-01],\n",
              "       [ 1.49757602e-01,  9.59435143e-01,  6.04404487e-01,\n",
              "        -7.77153505e-01, -9.06701825e-01, -6.45856164e-01],\n",
              "       [-3.02378739e-01,  5.10190419e-01,  2.02178061e-01,\n",
              "        -4.99610539e-01, -3.70299374e-01, -3.44681192e-01],\n",
              "       [-1.46260636e+00,  9.12688991e-01,  9.17620332e-01,\n",
              "         5.40892623e-01,  8.69924823e-01,  1.40797403e-01],\n",
              "       [ 9.47204874e-01, -2.86080019e+00,  1.34088750e+00,\n",
              "        -3.42574477e-01, -3.50756127e-01, -2.10699253e-01],\n",
              "       [-2.26047657e+00, -2.05916936e-01,  3.78347585e-01,\n",
              "         1.09048275e-01,  1.36107014e-01, -1.10658794e-01],\n",
              "       [-1.13540006e+00,  1.00345171e-01,  3.38462000e-01,\n",
              "        -7.35666719e-01,  2.59763821e-01, -5.00359389e-01],\n",
              "       [-1.38266097e+00, -1.00198927e+00,  1.41856127e+00,\n",
              "        -1.04794166e+00,  1.06210449e+00, -2.24472351e-01],\n",
              "       [ 7.59490371e-01, -1.43646986e+00, -6.42700827e-02,\n",
              "        -4.89352452e-02,  4.78481015e-01, -1.22755962e+00],\n",
              "       [ 3.78699002e+00, -7.23884234e-01,  6.51505650e-02,\n",
              "         8.92865597e-01,  6.48884787e-01, -2.76027986e-01],\n",
              "       [-1.63274644e+00, -1.44971599e+00, -9.96047559e-01,\n",
              "         5.15327672e-01,  1.45789674e-01,  4.87336035e-01],\n",
              "       [-1.39542474e+00, -1.45046937e+00,  1.10309064e-01,\n",
              "         7.04758882e-01,  1.49600065e+00,  6.47525592e-02],\n",
              "       [ 9.77873314e-01,  1.72281305e-03,  2.12848984e-01,\n",
              "        -2.40401551e-01,  4.04501975e-01,  3.00911898e-01],\n",
              "       [-5.93100186e-01,  1.66496551e+00, -2.12258074e-01,\n",
              "         3.78656389e-01,  9.94825345e-02, -4.58491319e-01],\n",
              "       [ 3.93055669e-01, -1.59691297e-01, -1.60083181e-03,\n",
              "         1.38624454e+00, -1.41133963e-01, -3.66539713e-01],\n",
              "       [ 4.85514690e-01, -3.71292218e-01, -2.88861716e-01,\n",
              "        -6.32244157e-01,  2.99585392e-01,  1.02863300e+00],\n",
              "       [ 2.87002024e+00,  1.45429762e+00, -7.23402453e-01,\n",
              "         2.75331464e-01,  1.39702694e-01, -2.01001757e-01],\n",
              "       [-1.01561917e+00, -2.04967170e+00, -2.17040959e+00,\n",
              "        -1.18160561e+00,  2.25857601e-01,  4.28071386e-01],\n",
              "       [-4.12521928e-01, -2.40460762e+00, -1.17258584e+00,\n",
              "         7.62126514e-01, -4.29358066e-02,  2.85025936e-01],\n",
              "       [ 2.91933860e+00, -1.18153089e+00,  9.15201294e-02,\n",
              "        -7.11416730e-01,  1.14676214e-01, -3.78142681e-01],\n",
              "       [-9.33144104e-01, -1.09476067e+00, -2.42295405e-01,\n",
              "         1.01298397e+00, -1.19972583e+00,  3.88102560e-01]])"
            ]
          },
          "execution_count": 40,
          "metadata": {},
          "output_type": "execute_result"
        }
      ],
      "source": [
        "pca6 = PCA() # define the PCA object\n",
        "pcs6 = pca6.fit_transform(sX_buzzcont)\n",
        "pcs6 # standardized data"
      ]
    },
    {
      "cell_type": "markdown",
      "metadata": {
        "id": "qtA09t6vSD1s"
      },
      "source": [
        "Print eigenvalues of the correlation matrix"
      ]
    },
    {
      "cell_type": "code",
      "execution_count": 41,
      "metadata": {
        "colab": {
          "base_uri": "https://localhost:8080/"
        },
        "id": "OlutC47Nc9oz",
        "outputId": "a59f5221-cde6-47b1-b87d-bb3b5a4cefd9"
      },
      "outputs": [
        {
          "name": "stdout",
          "output_type": "stream",
          "text": [
            "\n",
            " Eigenvalues of Correlation Matrix:\n",
            "[2.83823382 1.45442671 0.70232212 0.44299297 0.34049709 0.2215273 ]\n"
          ]
        }
      ],
      "source": [
        "print(\"\\n Eigenvalues of Correlation Matrix:\")\n",
        "egnval6 = pca6.explained_variance_\n",
        "print(egnval6)"
      ]
    },
    {
      "cell_type": "markdown",
      "metadata": {
        "id": "eFPDQnOiSGcM"
      },
      "source": [
        "Calculate and print the cumulative sum of explained variance ratios"
      ]
    },
    {
      "cell_type": "code",
      "execution_count": 42,
      "metadata": {
        "colab": {
          "base_uri": "https://localhost:8080/"
        },
        "id": "b-1x6WIKdAWG",
        "outputId": "b02bba8b-0ae5-488b-caea-de21d1356da8"
      },
      "outputs": [
        {
          "name": "stdout",
          "output_type": "stream",
          "text": [
            "\n",
            "Cumulative Sum of Explained Variance\n",
            "[0.47303897 0.71544342 0.83249711 0.90632927 0.96307878 1.        ]\n"
          ]
        }
      ],
      "source": [
        "# cumulative sum of explained variance ratios\n",
        "expldvarpca6 = pca6.explained_variance_ratio_ # calculate the variance explained by each PC\n",
        "egnvalsum6 = np.cumsum(expldvarpca6) # calculate the cumulative sum of those variances\n",
        "print(\"\\nCumulative Sum of Explained Variance\")\n",
        "print(egnvalsum6)"
      ]
    },
    {
      "cell_type": "code",
      "execution_count": 43,
      "metadata": {
        "colab": {
          "base_uri": "https://localhost:8080/",
          "height": 738
        },
        "id": "dDjK2P4ZnBd5",
        "outputId": "b72c1de5-ac71-4f90-cb3a-cefd7f853b04"
      },
      "outputs": [
        {
          "data": {
            "image/png": "[encoded data removed]",
            "text/plain": [
              "<Figure size 1000x800 with 1 Axes>"
            ]
          },
          "metadata": {},
          "output_type": "display_data"
        }
      ],
      "source": [
        "# Create a figure with the specified size\n",
        "plt.figure(figsize=(10, 8))\n",
        "plt.xlabel(\"Principal Component\")\n",
        "plt.ylabel(\"Portion of Variance\")\n",
        "plt.xticks(np.arange(1,7))\n",
        "\n",
        "# Plot Proportion of Variance Explained\n",
        "plt.plot(np.arange(1,7), expldvarpca6,label='Proportion of Variance Explained')\n",
        "plt.scatter(np.arange(1,7), expldvarpca6,s=100)\n",
        "\n",
        "# Plot Cumulative Variance Explained\n",
        "plt.plot(np.arange(1,7), egnvalsum6,label='Cumulative Proportion of Variance Explained')\n",
        "plt.scatter(np.arange(1,7), egnvalsum6,s=50)\n",
        "\n",
        "# Add horizontal lines for thresholds\n",
        "plt.axhline(y=0.60, color='r', linestyle='--', label='60% Threshold')\n",
        "plt.axhline(y=0.70, color='y', linestyle='--', label='70% Threshold')\n",
        "plt.axhline(y=0.80, color='b', linestyle='--', label='80% Threshold')\n",
        "plt.axhline(y=0.90, color='m', linestyle='--', label='90% Threshold')\n",
        "\n",
        "plt.grid(True)\n",
        "plt.title('Proportion and Cumulative Variance Explained by PCs of 4 \"Buzz\" Variables, Budget, and Star Power')\n",
        "plt.legend()\n",
        "plt.show()"
      ]
    },
    {
      "cell_type": "markdown",
      "metadata": {
        "id": "SSucMPQFSTvS"
      },
      "source": [
        "Determine the number of PCs based on:\n",
        "<ol type = \"i\">\n",
        "  <li> Kaiser's rule\n",
        "  <li> Explained variance threshold of 60%\n",
        "  <li> Explained variance threshold of 70%\n",
        "  <li> Explained variance threshold of 80%\n",
        "  <li> Explained variance threshold of 90%"
      ]
    },
    {
      "cell_type": "code",
      "execution_count": 44,
      "metadata": {
        "colab": {
          "base_uri": "https://localhost:8080/"
        },
        "id": "qVnBEs2CCtUS",
        "outputId": "18b0cacd-59c3-43bd-96c8-ba04ed0107b6"
      },
      "outputs": [
        {
          "name": "stdout",
          "output_type": "stream",
          "text": [
            "Number of PCs selected based on Kaiser's rule: 2 PC(s)\n",
            "Number of PCs selected for each explained variance threshold:\n",
            "Threshold 60%: 2 PC(s)\n",
            "Threshold 70%: 2 PC(s)\n",
            "Threshold 80%: 3 PC(s)\n",
            "Threshold 90%: 4 PC(s)\n"
          ]
        }
      ],
      "source": [
        "# number of PCs based on Kaiser's rule and explained variance thresholds\n",
        "\n",
        "# Kaiser's rule - select PCs > 1\n",
        "pcs6_kaiser = sum(1 for egnval in egnval6 if egnval > 1) # or np.sum(egnval6 > 1) - egnval6 > 1 creates a boolean array -> sum of all True/1 elements\n",
        "print(f\"Number of PCs selected based on Kaiser's rule: {pcs6_kaiser} PC(s)\")\n",
        "\n",
        "# explained variance thresholds\n",
        "thresholds = [0.6, 0.7, 0.8, 0.9] # define thresholds\n",
        "pcs6_num_PC = {} # define a dictionary to store number of PCs corresponding to each threshold\n",
        "for threshold in thresholds: # loop through each threshold\n",
        "  # find the index where the condition is first met (cumulative sum of explained variance >= threshold)\n",
        "  index = np.argmax(egnvalsum6 >= threshold)\n",
        "\n",
        "  # check if threshold is actually reached\n",
        "  if egnvalsum6[index] >= threshold:\n",
        "    pcs6_num_PC[threshold] = index + 1\n",
        "  else:\n",
        "    pcs6_num_PC[threshold] = len(egnvalsum6)\n",
        "\n",
        "print(\"Number of PCs selected for each explained variance threshold:\")\n",
        "for threshold, num in pcs6_num_PC.items():\n",
        "  print(f\"Threshold {threshold:.0%}: {num} PC(s)\")"
      ]
    },
    {
      "cell_type": "markdown",
      "metadata": {
        "id": "cYArdBeVSdF2"
      },
      "source": [
        "# **QUESTION 12**"
      ]
    },
    {
      "cell_type": "markdown",
      "metadata": {
        "id": "fncWm89OSp80"
      },
      "source": [
        "Define vector of predictors (concatenate 6 variables + 4 PCs)"
      ]
    },
    {
      "cell_type": "code",
      "execution_count": 45,
      "metadata": {
        "colab": {
          "base_uri": "https://localhost:8080/",
          "height": 227
        },
        "id": "4AG7gNKndCK3",
        "outputId": "594b826c-f177-4efe-f853-dd9334dca22b"
      },
      "outputs": [
        {
          "data": {
            "text/html": [
              "<div>\n",
              "<style scoped>\n",
              "    .dataframe tbody tr th:only-of-type {\n",
              "        vertical-align: middle;\n",
              "    }\n",
              "\n",
              "    .dataframe tbody tr th {\n",
              "        vertical-align: top;\n",
              "    }\n",
              "\n",
              "    .dataframe thead th {\n",
              "        text-align: right;\n",
              "    }\n",
              "</style>\n",
              "<table border=\"1\" class=\"dataframe\">\n",
              "  <thead>\n",
              "    <tr style=\"text-align: right;\">\n",
              "      <th></th>\n",
              "      <th>log_addict</th>\n",
              "      <th>log_cmngsoon</th>\n",
              "      <th>log_fandango</th>\n",
              "      <th>cntwait3</th>\n",
              "      <th>log_budget</th>\n",
              "      <th>starpowr</th>\n",
              "      <th>PC1</th>\n",
              "      <th>PC2</th>\n",
              "      <th>PC3</th>\n",
              "      <th>PC4</th>\n",
              "    </tr>\n",
              "  </thead>\n",
              "  <tbody>\n",
              "    <tr>\n",
              "      <th>0</th>\n",
              "      <td>8.969605</td>\n",
              "      <td>2.302585</td>\n",
              "      <td>4.969813</td>\n",
              "      <td>0.49</td>\n",
              "      <td>3.332205</td>\n",
              "      <td>19.83</td>\n",
              "      <td>-0.727800</td>\n",
              "      <td>-0.038162</td>\n",
              "      <td>-1.204158</td>\n",
              "      <td>1.123466</td>\n",
              "    </tr>\n",
              "    <tr>\n",
              "      <th>1</th>\n",
              "      <td>8.654692</td>\n",
              "      <td>4.077537</td>\n",
              "      <td>6.148468</td>\n",
              "      <td>0.79</td>\n",
              "      <td>5.010635</td>\n",
              "      <td>32.69</td>\n",
              "      <td>2.637946</td>\n",
              "      <td>1.370233</td>\n",
              "      <td>-1.077239</td>\n",
              "      <td>-0.251879</td>\n",
              "    </tr>\n",
              "    <tr>\n",
              "      <th>2</th>\n",
              "      <td>6.745236</td>\n",
              "      <td>3.178054</td>\n",
              "      <td>5.288267</td>\n",
              "      <td>0.36</td>\n",
              "      <td>3.621671</td>\n",
              "      <td>15.69</td>\n",
              "      <td>-1.542932</td>\n",
              "      <td>0.469245</td>\n",
              "      <td>-0.076520</td>\n",
              "      <td>-0.857879</td>\n",
              "    </tr>\n",
              "    <tr>\n",
              "      <th>3</th>\n",
              "      <td>9.637306</td>\n",
              "      <td>4.532599</td>\n",
              "      <td>7.483244</td>\n",
              "      <td>0.76</td>\n",
              "      <td>5.298317</td>\n",
              "      <td>23.62</td>\n",
              "      <td>3.605130</td>\n",
              "      <td>0.458782</td>\n",
              "      <td>0.388755</td>\n",
              "      <td>0.345631</td>\n",
              "    </tr>\n",
              "    <tr>\n",
              "      <th>4</th>\n",
              "      <td>8.428198</td>\n",
              "      <td>3.401197</td>\n",
              "      <td>7.011214</td>\n",
              "      <td>0.53</td>\n",
              "      <td>5.010635</td>\n",
              "      <td>19.02</td>\n",
              "      <td>1.453419</td>\n",
              "      <td>0.892621</td>\n",
              "      <td>0.777003</td>\n",
              "      <td>0.150703</td>\n",
              "    </tr>\n",
              "  </tbody>\n",
              "</table>\n",
              "</div>"
            ],
            "text/plain": [
              "   log_addict  log_cmngsoon  log_fandango  cntwait3  log_budget  starpowr  \\\n",
              "0    8.969605      2.302585      4.969813      0.49    3.332205     19.83   \n",
              "1    8.654692      4.077537      6.148468      0.79    5.010635     32.69   \n",
              "2    6.745236      3.178054      5.288267      0.36    3.621671     15.69   \n",
              "3    9.637306      4.532599      7.483244      0.76    5.298317     23.62   \n",
              "4    8.428198      3.401197      7.011214      0.53    5.010635     19.02   \n",
              "\n",
              "        PC1       PC2       PC3       PC4  \n",
              "0 -0.727800 -0.038162 -1.204158  1.123466  \n",
              "1  2.637946  1.370233 -1.077239 -0.251879  \n",
              "2 -1.542932  0.469245 -0.076520 -0.857879  \n",
              "3  3.605130  0.458782  0.388755  0.345631  \n",
              "4  1.453419  0.892621  0.777003  0.150703  "
            ]
          },
          "execution_count": 45,
          "metadata": {},
          "output_type": "execute_result"
        }
      ],
      "source": [
        "# make a copy of X_buzzcont\n",
        "X_buzzPCA4 = X_buzzcont.copy()\n",
        "\n",
        "# convert pcs6 from nparray to pd dataframe\n",
        "pcs6df = pd.DataFrame(pcs6, columns = [\"PC1\", \"PC2\", \"PC3\", \"PC4\", \"PC5\", \"PC6\"])\n",
        "\n",
        "# define the vector X_buzzPCA6 as a list of \"buzz\" variables, other continuous variables, and all 6 PCs\n",
        "X_buzzPCA4 = pd.concat((X_buzzPCA4, pcs6df), axis = 1)\n",
        "\n",
        "# drop PC5 and PC6 from the data frame\n",
        "X_buzzPCA4 = X_buzzPCA4.drop([\"PC5\", \"PC6\"], axis = 1)\n",
        "X_buzzPCA4.head()"
      ]
    },
    {
      "cell_type": "markdown",
      "metadata": {
        "id": "SW41FNsHSmP5"
      },
      "source": [
        "RUN LINEAR REGRESSION MODEL ON 6 VARIABLES + PC1 & PC2 (based on Kaiser's rule and explained variance threshold of 60% & 70%)"
      ]
    },
    {
      "cell_type": "code",
      "execution_count": 46,
      "metadata": {
        "colab": {
          "base_uri": "https://localhost:8080/"
        },
        "id": "8vYjwO3ZdEAO",
        "outputId": "071c778f-9a9e-4267-ac66-2fb8824804e2"
      },
      "outputs": [
        {
          "name": "stdout",
          "output_type": "stream",
          "text": [
            "Linear Regression Using 2 PCs based on Kaiser's Rule and Using 60/70% Threshold\n",
            "\n",
            "                            OLS Regression Results                            \n",
            "==============================================================================\n",
            "Dep. Variable:                log_box   R-squared:                       0.475\n",
            "Model:                            OLS   Adj. R-squared:                  0.418\n",
            "Method:                 Least Squares   F-statistic:                     8.291\n",
            "Date:                Sat, 07 Sep 2024   Prob (F-statistic):           2.07e-06\n",
            "Time:                        22:57:40   Log-Likelihood:                -63.859\n",
            "No. Observations:                  62   AIC:                             141.7\n",
            "Df Residuals:                      55   BIC:                             156.6\n",
            "Df Model:                           6                                         \n",
            "Covariance Type:            nonrobust                                         \n",
            "================================================================================\n",
            "                   coef    std err          t      P>|t|      [0.025      0.975]\n",
            "--------------------------------------------------------------------------------\n",
            "const            0.6502      0.285      2.284      0.026       0.080       1.221\n",
            "log_addict       0.0570      0.118      0.483      0.631      -0.180       0.294\n",
            "log_cmngsoon    -0.1706      0.144     -1.181      0.243      -0.460       0.119\n",
            "log_fandango     0.0358      0.116      0.309      0.758      -0.196       0.268\n",
            "cntwait3         2.2883      0.997      2.295      0.026       0.290       4.286\n",
            "log_budget       0.1358      0.138      0.986      0.329      -0.140       0.412\n",
            "starpowr         0.0190      0.018      1.049      0.299      -0.017       0.055\n",
            "PC1              0.1456      0.077      1.888      0.064      -0.009       0.300\n",
            "PC2             -0.2821      0.124     -2.283      0.026      -0.530      -0.034\n",
            "==============================================================================\n",
            "Omnibus:                        4.879   Durbin-Watson:                   1.674\n",
            "Prob(Omnibus):                  0.087   Jarque-Bera (JB):                3.913\n",
            "Skew:                          -0.521   Prob(JB):                        0.141\n",
            "Kurtosis:                       3.655   Cond. No.                     6.60e+17\n",
            "==============================================================================\n",
            "\n",
            "Notes:\n",
            "[1] Standard Errors assume that the covariance matrix of the errors is correctly specified.\n",
            "[2] The smallest eigenvalue is 7.32e-32. This might indicate that there are\n",
            "strong multicollinearity problems or that the design matrix is singular.\n"
          ]
        }
      ],
      "source": [
        "# run linear regression with \"buzz\" variables + other continuous variables + PC1 and PC2 (based on Kaiser's rule and \"explained variance\" threshold of 60% or 70%)\n",
        "\n",
        "# make a copy of the X_buzzPCA4 and drop the unnecessary PCs\n",
        "X_buzzPCA2 = X_buzzPCA4.copy()\n",
        "X_buzzPCA2 = X_buzzPCA2.drop([\"PC3\", \"PC4\"], axis = 1)\n",
        "\n",
        "# add intercept before running least squares regression using statsmodel\n",
        "X_buzzPCA2 = sm.add_constant(X_buzzPCA2)\n",
        "\n",
        "# run linear regression and print the summary\n",
        "lr_buzzPCA2 = sm.OLS(y, X_buzzPCA2).fit()\n",
        "print(\"Linear Regression Using 2 PCs based on Kaiser's Rule and Using 60/70% Threshold\")\n",
        "print()\n",
        "print(lr_buzzPCA2.summary())"
      ]
    },
    {
      "cell_type": "markdown",
      "metadata": {
        "id": "7QPjMFGiTMuD"
      },
      "source": [
        "RUN LINEAR REGRESSION MODEL ON 6 VARIABLES + PC1, PC2, & PC3 (based on explained variance threshold of 80%)"
      ]
    },
    {
      "cell_type": "code",
      "execution_count": 47,
      "metadata": {
        "colab": {
          "base_uri": "https://localhost:8080/"
        },
        "id": "cQtR4CfydGGm",
        "outputId": "a3a23193-c4b7-453f-92a4-33bb6fd3f88d"
      },
      "outputs": [
        {
          "name": "stdout",
          "output_type": "stream",
          "text": [
            "Linear Regression Using 3 PCs based on Kaiser's Rule and Using 80% Threshold\n",
            "\n",
            "                            OLS Regression Results                            \n",
            "==============================================================================\n",
            "Dep. Variable:                log_box   R-squared:                       0.475\n",
            "Model:                            OLS   Adj. R-squared:                  0.418\n",
            "Method:                 Least Squares   F-statistic:                     8.291\n",
            "Date:                Sat, 07 Sep 2024   Prob (F-statistic):           2.07e-06\n",
            "Time:                        22:57:40   Log-Likelihood:                -63.859\n",
            "No. Observations:                  62   AIC:                             141.7\n",
            "Df Residuals:                      55   BIC:                             156.6\n",
            "Df Model:                           6                                         \n",
            "Covariance Type:            nonrobust                                         \n",
            "================================================================================\n",
            "                   coef    std err          t      P>|t|      [0.025      0.975]\n",
            "--------------------------------------------------------------------------------\n",
            "const            0.1329      0.062      2.140      0.037       0.008       0.257\n",
            "log_addict      -0.0318      0.148     -0.215      0.830      -0.328       0.264\n",
            "log_cmngsoon    -0.1203      0.133     -0.901      0.371      -0.388       0.147\n",
            "log_fandango     0.6613      0.305      2.170      0.034       0.051       1.272\n",
            "cntwait3         0.5008      0.228      2.192      0.033       0.043       0.959\n",
            "log_budget      -0.1468      0.172     -0.854      0.397      -0.491       0.198\n",
            "starpowr        -0.0228      0.023     -1.011      0.317      -0.068       0.022\n",
            "PC1              0.2742      0.079      3.462      0.001       0.115       0.433\n",
            "PC2             -0.0348      0.074     -0.473      0.638      -0.183       0.113\n",
            "PC3             -0.6960      0.301     -2.313      0.025      -1.299      -0.093\n",
            "==============================================================================\n",
            "Omnibus:                        4.879   Durbin-Watson:                   1.674\n",
            "Prob(Omnibus):                  0.087   Jarque-Bera (JB):                3.913\n",
            "Skew:                          -0.521   Prob(JB):                        0.141\n",
            "Kurtosis:                       3.655   Cond. No.                     6.65e+17\n",
            "==============================================================================\n",
            "\n",
            "Notes:\n",
            "[1] Standard Errors assume that the covariance matrix of the errors is correctly specified.\n",
            "[2] The smallest eigenvalue is 7.22e-32. This might indicate that there are\n",
            "strong multicollinearity problems or that the design matrix is singular.\n"
          ]
        }
      ],
      "source": [
        "# run linear regression with \"buzz\" variables + other continuous variables + PC1, PC2, and PC3 (based on \"explained variance\" threshold of 80%)\n",
        "\n",
        "# make a copy of the X_buzzPCA4 and drop the unnecessary PCs\n",
        "X_buzzPCA3 = X_buzzPCA4.copy()\n",
        "X_buzzPCA3 = X_buzzPCA3.drop([\"PC4\"], axis = 1)\n",
        "\n",
        "# add intercept before running least squares regression using statsmodel\n",
        "X_buzzPCA3 = sm.add_constant(X_buzzPCA3)\n",
        "\n",
        "# run linear regression and print the summary\n",
        "lr_buzzPCA3 = sm.OLS(y, X_buzzPCA3).fit()\n",
        "print(\"Linear Regression Using 3 PCs based on Kaiser's Rule and Using 80% Threshold\")\n",
        "print()\n",
        "print(lr_buzzPCA3.summary())"
      ]
    },
    {
      "cell_type": "markdown",
      "metadata": {
        "id": "I5LOSDlmTUDj"
      },
      "source": [
        "RUN LINEAR REGRESSION MODEL ON 6 VARIABLES + PC1, PC2, PC3 & PC4 (based on explained variance threshold of 90%)"
      ]
    },
    {
      "cell_type": "code",
      "execution_count": 48,
      "metadata": {
        "colab": {
          "base_uri": "https://localhost:8080/"
        },
        "id": "Tpoz4iGcdIM0",
        "outputId": "a7f6df51-0962-4387-d20f-4e44d2c795ca"
      },
      "outputs": [
        {
          "name": "stdout",
          "output_type": "stream",
          "text": [
            "Linear Regression Using 4 PCs based on Kaiser's Rule and Using 90% Threshold\n",
            "\n",
            "                            OLS Regression Results                            \n",
            "==============================================================================\n",
            "Dep. Variable:                log_box   R-squared:                       0.475\n",
            "Model:                            OLS   Adj. R-squared:                  0.418\n",
            "Method:                 Least Squares   F-statistic:                     8.291\n",
            "Date:                Sat, 07 Sep 2024   Prob (F-statistic):           2.07e-06\n",
            "Time:                        22:57:40   Log-Likelihood:                -63.859\n",
            "No. Observations:                  62   AIC:                             141.7\n",
            "Df Residuals:                      55   BIC:                             156.6\n",
            "Df Model:                           6                                         \n",
            "Covariance Type:            nonrobust                                         \n",
            "================================================================================\n",
            "                   coef    std err          t      P>|t|      [0.025      0.975]\n",
            "--------------------------------------------------------------------------------\n",
            "const            0.0562      0.022      2.510      0.015       0.011       0.101\n",
            "log_addict       0.2574      0.054      4.783      0.000       0.150       0.365\n",
            "log_cmngsoon    -0.3134      0.191     -1.640      0.107      -0.696       0.070\n",
            "log_fandango     0.3730      0.164      2.274      0.027       0.044       0.702\n",
            "cntwait3         0.2820      0.118      2.382      0.021       0.045       0.519\n",
            "log_budget      -0.1757      0.182     -0.967      0.338      -0.540       0.188\n",
            "starpowr        -0.0039      0.018     -0.210      0.834      -0.041       0.033\n",
            "PC1              0.3375      0.094      3.572      0.001       0.148       0.527\n",
            "PC2             -0.1014      0.078     -1.299      0.199      -0.258       0.055\n",
            "PC3             -0.3883      0.151     -2.568      0.013      -0.691      -0.085\n",
            "PC4             -0.3535      0.186     -1.904      0.062      -0.726       0.019\n",
            "==============================================================================\n",
            "Omnibus:                        4.879   Durbin-Watson:                   1.674\n",
            "Prob(Omnibus):                  0.087   Jarque-Bera (JB):                3.913\n",
            "Skew:                          -0.521   Prob(JB):                        0.141\n",
            "Kurtosis:                       3.655   Cond. No.                     5.79e+17\n",
            "==============================================================================\n",
            "\n",
            "Notes:\n",
            "[1] Standard Errors assume that the covariance matrix of the errors is correctly specified.\n",
            "[2] The smallest eigenvalue is 9.53e-32. This might indicate that there are\n",
            "strong multicollinearity problems or that the design matrix is singular.\n"
          ]
        }
      ],
      "source": [
        "# run linear regression with \"buzz\" variables + other continuous variables + PC1, PC2, PC3, and PC4 (based on \"explained variance\" threshold of 90%)\n",
        "\n",
        "# add intercept before running least squares regression using statsmodel\n",
        "X_buzzPCA4 = sm.add_constant(X_buzzPCA4)\n",
        "\n",
        "# run linear regression and print the summary\n",
        "lr_buzzPCA4 = sm.OLS(y, X_buzzPCA4).fit()\n",
        "print(\"Linear Regression Using 4 PCs based on Kaiser's Rule and Using 90% Threshold\")\n",
        "print()\n",
        "print(lr_buzzPCA4.summary())"
      ]
    },
    {
      "cell_type": "markdown",
      "metadata": {
        "id": "mfu_xnnBTcXe"
      },
      "source": [
        "> **Observation:**\n",
        "*   All the above models have the same $R^2$, adjusted $R^2$, and AIC/BIC, which indicates the multicollinearity issue because each of the PCs used is a linear combination of all the other variables (4 “buzz” variables and 2 continuous variables). Adding or removing any PCs from the model only rearranges the coefficients among the original variables, rather than changing the prediction or model quality. In other words, none of these 4 models is superior to the others.\n",
        "*   Models with severe multicollinearity (i.e., redundant variables) should not be recommended.\n",
        "\n"
      ]
    },
    {
      "cell_type": "markdown",
      "metadata": {
        "id": "r_kqMwv5TvbB"
      },
      "source": [
        "# **QUESTION 13**"
      ]
    },
    {
      "cell_type": "markdown",
      "metadata": {
        "id": "VH2CTjp6T4FF"
      },
      "source": [
        "(Please see report)"
      ]
    },
    {
      "cell_type": "markdown",
      "metadata": {
        "id": "PMv2o_2eTzhc"
      },
      "source": [
        "# **QUESTION 14**"
      ]
    },
    {
      "cell_type": "markdown",
      "metadata": {
        "id": "JG73MDMIUJ-S"
      },
      "source": [
        "(Please see report)"
      ]
    }
  ],
  "metadata": {
    "colab": {
      "provenance": []
    },
    "kernelspec": {
      "display_name": "Python 3 (ipykernel)",
      "language": "python",
      "name": "python3"
    },
    "language_info": {
      "codemirror_mode": {
        "name": "ipython",
        "version": 3
      },
      "file_extension": ".py",
      "mimetype": "text/x-python",
      "name": "python",
      "nbconvert_exporter": "python",
      "pygments_lexer": "ipython3",
      "version": "3.11.9"
    }
  },
  "nbformat": 4,
  "nbformat_minor": 0
}
